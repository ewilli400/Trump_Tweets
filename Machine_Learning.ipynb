{
  "nbformat": 4,
  "nbformat_minor": 0,
  "metadata": {
    "colab": {
      "name": "Machine Learning.ipynb",
      "provenance": [],
      "collapsed_sections": [],
      "include_colab_link": true
    },
    "kernelspec": {
      "name": "python3",
      "display_name": "Python 3"
    }
  },
  "cells": [
    {
      "cell_type": "markdown",
      "metadata": {
        "id": "view-in-github",
        "colab_type": "text"
      },
      "source": [
        "<a href=\"https://colab.research.google.com/github/ewilli400/Trump_Tweets/blob/main/Machine_Learning.ipynb\" target=\"_parent\"><img src=\"https://colab.research.google.com/assets/colab-badge.svg\" alt=\"Open In Colab\"/></a>"
      ]
    },
    {
      "cell_type": "code",
      "metadata": {
        "id": "F0ycpFq1KWjx"
      },
      "source": [
        "import pandas as pd\n",
        "import datetime"
      ],
      "execution_count": 1,
      "outputs": []
    },
    {
      "cell_type": "code",
      "metadata": {
        "colab": {
          "base_uri": "https://localhost:8080/",
          "height": 419
        },
        "id": "RDL4U55LKfq1",
        "outputId": "fd61ff6e-199c-4eb6-c3db-1e6d8111a346"
      },
      "source": [
        "#reading in the cleaned dataset\n",
        "trump_tweets = pd.read_csv(\"https://github.com/ewilli400/trump/blob/main/out%20(4).csv?raw=true\")\n",
        "trump_tweets"
      ],
      "execution_count": 2,
      "outputs": [
        {
          "output_type": "execute_result",
          "data": {
            "text/html": [
              "<div>\n",
              "<style scoped>\n",
              "    .dataframe tbody tr th:only-of-type {\n",
              "        vertical-align: middle;\n",
              "    }\n",
              "\n",
              "    .dataframe tbody tr th {\n",
              "        vertical-align: top;\n",
              "    }\n",
              "\n",
              "    .dataframe thead th {\n",
              "        text-align: right;\n",
              "    }\n",
              "</style>\n",
              "<table border=\"1\" class=\"dataframe\">\n",
              "  <thead>\n",
              "    <tr style=\"text-align: right;\">\n",
              "      <th></th>\n",
              "      <th>content</th>\n",
              "      <th>date</th>\n",
              "      <th>retweets</th>\n",
              "      <th>favorites</th>\n",
              "      <th>mentions</th>\n",
              "      <th>hashtags</th>\n",
              "      <th>target</th>\n",
              "      <th>insult</th>\n",
              "      <th>indicator</th>\n",
              "      <th>time</th>\n",
              "      <th>year</th>\n",
              "    </tr>\n",
              "  </thead>\n",
              "  <tbody>\n",
              "    <tr>\n",
              "      <th>0</th>\n",
              "      <td>Be sure to tune in and watch Donald Trump on L...</td>\n",
              "      <td>2009-05-04 20:54:25</td>\n",
              "      <td>500</td>\n",
              "      <td>868</td>\n",
              "      <td>None</td>\n",
              "      <td>None</td>\n",
              "      <td>None</td>\n",
              "      <td>None</td>\n",
              "      <td>0.0</td>\n",
              "      <td>20:54:25</td>\n",
              "      <td>2009</td>\n",
              "    </tr>\n",
              "    <tr>\n",
              "      <th>1</th>\n",
              "      <td>Donald Trump will be appearing on The View tom...</td>\n",
              "      <td>2009-05-05 03:00:10</td>\n",
              "      <td>33</td>\n",
              "      <td>273</td>\n",
              "      <td>None</td>\n",
              "      <td>None</td>\n",
              "      <td>None</td>\n",
              "      <td>None</td>\n",
              "      <td>0.0</td>\n",
              "      <td>03:00:10</td>\n",
              "      <td>2009</td>\n",
              "    </tr>\n",
              "    <tr>\n",
              "      <th>2</th>\n",
              "      <td>Donald Trump reads Top Ten Financial Tips on L...</td>\n",
              "      <td>2009-05-08 15:38:08</td>\n",
              "      <td>12</td>\n",
              "      <td>18</td>\n",
              "      <td>None</td>\n",
              "      <td>None</td>\n",
              "      <td>None</td>\n",
              "      <td>None</td>\n",
              "      <td>0.0</td>\n",
              "      <td>15:38:08</td>\n",
              "      <td>2009</td>\n",
              "    </tr>\n",
              "    <tr>\n",
              "      <th>3</th>\n",
              "      <td>New Blog Post: Celebrity Apprentice Finale and...</td>\n",
              "      <td>2009-05-08 22:40:15</td>\n",
              "      <td>11</td>\n",
              "      <td>24</td>\n",
              "      <td>None</td>\n",
              "      <td>None</td>\n",
              "      <td>None</td>\n",
              "      <td>None</td>\n",
              "      <td>0.0</td>\n",
              "      <td>22:40:15</td>\n",
              "      <td>2009</td>\n",
              "    </tr>\n",
              "    <tr>\n",
              "      <th>4</th>\n",
              "      <td>\"My persona will never be that of a wallflower...</td>\n",
              "      <td>2009-05-12 16:07:28</td>\n",
              "      <td>1399</td>\n",
              "      <td>1965</td>\n",
              "      <td>None</td>\n",
              "      <td>None</td>\n",
              "      <td>None</td>\n",
              "      <td>None</td>\n",
              "      <td>0.0</td>\n",
              "      <td>16:07:28</td>\n",
              "      <td>2009</td>\n",
              "    </tr>\n",
              "    <tr>\n",
              "      <th>...</th>\n",
              "      <td>...</td>\n",
              "      <td>...</td>\n",
              "      <td>...</td>\n",
              "      <td>...</td>\n",
              "      <td>...</td>\n",
              "      <td>...</td>\n",
              "      <td>...</td>\n",
              "      <td>...</td>\n",
              "      <td>...</td>\n",
              "      <td>...</td>\n",
              "      <td>...</td>\n",
              "    </tr>\n",
              "    <tr>\n",
              "      <th>41117</th>\n",
              "      <td>I have never seen the Republican Party as Stro...</td>\n",
              "      <td>2020-01-19 19:24:52</td>\n",
              "      <td>32620</td>\n",
              "      <td>213817</td>\n",
              "      <td>None</td>\n",
              "      <td>None</td>\n",
              "      <td>None</td>\n",
              "      <td>None</td>\n",
              "      <td>0.0</td>\n",
              "      <td>19:24:52</td>\n",
              "      <td>2020</td>\n",
              "    </tr>\n",
              "    <tr>\n",
              "      <th>41118</th>\n",
              "      <td>Now Mini Mike Bloomberg is critical of Jack Wi...</td>\n",
              "      <td>2020-01-19 22:12:20</td>\n",
              "      <td>36239</td>\n",
              "      <td>149571</td>\n",
              "      <td>None</td>\n",
              "      <td>None</td>\n",
              "      <td>michael-bloomberg</td>\n",
              "      <td>Mini Mike</td>\n",
              "      <td>1.0</td>\n",
              "      <td>22:12:20</td>\n",
              "      <td>2020</td>\n",
              "    </tr>\n",
              "    <tr>\n",
              "      <th>41119</th>\n",
              "      <td>I was thrilled to be back in the Great State o...</td>\n",
              "      <td>2020-01-20 01:27:07</td>\n",
              "      <td>16588</td>\n",
              "      <td>66944</td>\n",
              "      <td>None</td>\n",
              "      <td>#</td>\n",
              "      <td>None</td>\n",
              "      <td>None</td>\n",
              "      <td>0.0</td>\n",
              "      <td>01:27:07</td>\n",
              "      <td>2020</td>\n",
              "    </tr>\n",
              "    <tr>\n",
              "      <th>41120</th>\n",
              "      <td>“In the House, the President got less due proc...</td>\n",
              "      <td>2020-01-20 02:16:00</td>\n",
              "      <td>20599</td>\n",
              "      <td>81921</td>\n",
              "      <td>@ @ @</td>\n",
              "      <td>None</td>\n",
              "      <td>None</td>\n",
              "      <td>None</td>\n",
              "      <td>0.0</td>\n",
              "      <td>02:16:00</td>\n",
              "      <td>2020</td>\n",
              "    </tr>\n",
              "    <tr>\n",
              "      <th>41121</th>\n",
              "      <td>A great show! Check it out tonight at 9pm. @ F...</td>\n",
              "      <td>2020-01-20 02:57:49</td>\n",
              "      <td>7947</td>\n",
              "      <td>34902</td>\n",
              "      <td>@</td>\n",
              "      <td>None</td>\n",
              "      <td>None</td>\n",
              "      <td>None</td>\n",
              "      <td>0.0</td>\n",
              "      <td>02:57:49</td>\n",
              "      <td>2020</td>\n",
              "    </tr>\n",
              "  </tbody>\n",
              "</table>\n",
              "<p>41122 rows × 11 columns</p>\n",
              "</div>"
            ],
            "text/plain": [
              "                                                 content  ...  year\n",
              "0      Be sure to tune in and watch Donald Trump on L...  ...  2009\n",
              "1      Donald Trump will be appearing on The View tom...  ...  2009\n",
              "2      Donald Trump reads Top Ten Financial Tips on L...  ...  2009\n",
              "3      New Blog Post: Celebrity Apprentice Finale and...  ...  2009\n",
              "4      \"My persona will never be that of a wallflower...  ...  2009\n",
              "...                                                  ...  ...   ...\n",
              "41117  I have never seen the Republican Party as Stro...  ...  2020\n",
              "41118  Now Mini Mike Bloomberg is critical of Jack Wi...  ...  2020\n",
              "41119  I was thrilled to be back in the Great State o...  ...  2020\n",
              "41120  “In the House, the President got less due proc...  ...  2020\n",
              "41121  A great show! Check it out tonight at 9pm. @ F...  ...  2020\n",
              "\n",
              "[41122 rows x 11 columns]"
            ]
          },
          "metadata": {
            "tags": []
          },
          "execution_count": 2
        }
      ]
    },
    {
      "cell_type": "markdown",
      "metadata": {
        "id": "mdPTmkh_2YbJ"
      },
      "source": [
        "# **Machine Learning: Criticism**\n",
        "Using K-Nearest-Neighbors, we train a model to attempt to predict if a given tweet contains a criticism based on the tf-idf of word-usage of his tweets."
      ]
    },
    {
      "cell_type": "code",
      "metadata": {
        "colab": {
          "base_uri": "https://localhost:8080/",
          "height": 419
        },
        "id": "e18Nn8If4qIJ",
        "outputId": "1b28149f-d290-4036-8807-b931329748aa"
      },
      "source": [
        "trump_tweets_2014on = trump_tweets[trump_tweets['year'] > 2013] # Create a new dataframe of only 2014-2020 because 2014 is the earliest available data we have on cristicisms\n",
        "trump_tweets_2014on"
      ],
      "execution_count": 3,
      "outputs": [
        {
          "output_type": "execute_result",
          "data": {
            "text/html": [
              "<div>\n",
              "<style scoped>\n",
              "    .dataframe tbody tr th:only-of-type {\n",
              "        vertical-align: middle;\n",
              "    }\n",
              "\n",
              "    .dataframe tbody tr th {\n",
              "        vertical-align: top;\n",
              "    }\n",
              "\n",
              "    .dataframe thead th {\n",
              "        text-align: right;\n",
              "    }\n",
              "</style>\n",
              "<table border=\"1\" class=\"dataframe\">\n",
              "  <thead>\n",
              "    <tr style=\"text-align: right;\">\n",
              "      <th></th>\n",
              "      <th>content</th>\n",
              "      <th>date</th>\n",
              "      <th>retweets</th>\n",
              "      <th>favorites</th>\n",
              "      <th>mentions</th>\n",
              "      <th>hashtags</th>\n",
              "      <th>target</th>\n",
              "      <th>insult</th>\n",
              "      <th>indicator</th>\n",
              "      <th>time</th>\n",
              "      <th>year</th>\n",
              "    </tr>\n",
              "  </thead>\n",
              "  <tbody>\n",
              "    <tr>\n",
              "      <th>13466</th>\n",
              "      <td>Today is the first day of the rest of your lif...</td>\n",
              "      <td>2014-01-01 13:56:30</td>\n",
              "      <td>854</td>\n",
              "      <td>696</td>\n",
              "      <td>None</td>\n",
              "      <td>None</td>\n",
              "      <td>None</td>\n",
              "      <td>None</td>\n",
              "      <td>0.0</td>\n",
              "      <td>13:56:30</td>\n",
              "      <td>2014</td>\n",
              "    </tr>\n",
              "    <tr>\n",
              "      <th>13467</th>\n",
              "      <td>This very expensive GLOBAL WARMING bullshit ha...</td>\n",
              "      <td>2014-01-02 01:39:56</td>\n",
              "      <td>7295</td>\n",
              "      <td>5670</td>\n",
              "      <td>None</td>\n",
              "      <td>None</td>\n",
              "      <td>None</td>\n",
              "      <td>None</td>\n",
              "      <td>0.0</td>\n",
              "      <td>01:39:56</td>\n",
              "      <td>2014</td>\n",
              "    </tr>\n",
              "    <tr>\n",
              "      <th>13468</th>\n",
              "      <td>\" @ ScreenPlayWritr: @ realDonaldTrump Is Al G...</td>\n",
              "      <td>2014-01-02 06:47:30</td>\n",
              "      <td>21</td>\n",
              "      <td>33</td>\n",
              "      <td>@ @</td>\n",
              "      <td>None</td>\n",
              "      <td>None</td>\n",
              "      <td>None</td>\n",
              "      <td>0.0</td>\n",
              "      <td>06:47:30</td>\n",
              "      <td>2014</td>\n",
              "    </tr>\n",
              "    <tr>\n",
              "      <th>13469</th>\n",
              "      <td>\" @ MeleMallory: @ realDonaldTrump You know it...</td>\n",
              "      <td>2014-01-02 07:00:04</td>\n",
              "      <td>64</td>\n",
              "      <td>79</td>\n",
              "      <td>@ @</td>\n",
              "      <td>None</td>\n",
              "      <td>None</td>\n",
              "      <td>None</td>\n",
              "      <td>0.0</td>\n",
              "      <td>07:00:04</td>\n",
              "      <td>2014</td>\n",
              "    </tr>\n",
              "    <tr>\n",
              "      <th>13470</th>\n",
              "      <td>\" @ noahshappy: @ realDonaldTrump very true co...</td>\n",
              "      <td>2014-01-02 07:02:48</td>\n",
              "      <td>29</td>\n",
              "      <td>55</td>\n",
              "      <td>@ @</td>\n",
              "      <td>None</td>\n",
              "      <td>None</td>\n",
              "      <td>None</td>\n",
              "      <td>0.0</td>\n",
              "      <td>07:02:48</td>\n",
              "      <td>2014</td>\n",
              "    </tr>\n",
              "    <tr>\n",
              "      <th>...</th>\n",
              "      <td>...</td>\n",
              "      <td>...</td>\n",
              "      <td>...</td>\n",
              "      <td>...</td>\n",
              "      <td>...</td>\n",
              "      <td>...</td>\n",
              "      <td>...</td>\n",
              "      <td>...</td>\n",
              "      <td>...</td>\n",
              "      <td>...</td>\n",
              "      <td>...</td>\n",
              "    </tr>\n",
              "    <tr>\n",
              "      <th>41117</th>\n",
              "      <td>I have never seen the Republican Party as Stro...</td>\n",
              "      <td>2020-01-19 19:24:52</td>\n",
              "      <td>32620</td>\n",
              "      <td>213817</td>\n",
              "      <td>None</td>\n",
              "      <td>None</td>\n",
              "      <td>None</td>\n",
              "      <td>None</td>\n",
              "      <td>0.0</td>\n",
              "      <td>19:24:52</td>\n",
              "      <td>2020</td>\n",
              "    </tr>\n",
              "    <tr>\n",
              "      <th>41118</th>\n",
              "      <td>Now Mini Mike Bloomberg is critical of Jack Wi...</td>\n",
              "      <td>2020-01-19 22:12:20</td>\n",
              "      <td>36239</td>\n",
              "      <td>149571</td>\n",
              "      <td>None</td>\n",
              "      <td>None</td>\n",
              "      <td>michael-bloomberg</td>\n",
              "      <td>Mini Mike</td>\n",
              "      <td>1.0</td>\n",
              "      <td>22:12:20</td>\n",
              "      <td>2020</td>\n",
              "    </tr>\n",
              "    <tr>\n",
              "      <th>41119</th>\n",
              "      <td>I was thrilled to be back in the Great State o...</td>\n",
              "      <td>2020-01-20 01:27:07</td>\n",
              "      <td>16588</td>\n",
              "      <td>66944</td>\n",
              "      <td>None</td>\n",
              "      <td>#</td>\n",
              "      <td>None</td>\n",
              "      <td>None</td>\n",
              "      <td>0.0</td>\n",
              "      <td>01:27:07</td>\n",
              "      <td>2020</td>\n",
              "    </tr>\n",
              "    <tr>\n",
              "      <th>41120</th>\n",
              "      <td>“In the House, the President got less due proc...</td>\n",
              "      <td>2020-01-20 02:16:00</td>\n",
              "      <td>20599</td>\n",
              "      <td>81921</td>\n",
              "      <td>@ @ @</td>\n",
              "      <td>None</td>\n",
              "      <td>None</td>\n",
              "      <td>None</td>\n",
              "      <td>0.0</td>\n",
              "      <td>02:16:00</td>\n",
              "      <td>2020</td>\n",
              "    </tr>\n",
              "    <tr>\n",
              "      <th>41121</th>\n",
              "      <td>A great show! Check it out tonight at 9pm. @ F...</td>\n",
              "      <td>2020-01-20 02:57:49</td>\n",
              "      <td>7947</td>\n",
              "      <td>34902</td>\n",
              "      <td>@</td>\n",
              "      <td>None</td>\n",
              "      <td>None</td>\n",
              "      <td>None</td>\n",
              "      <td>0.0</td>\n",
              "      <td>02:57:49</td>\n",
              "      <td>2020</td>\n",
              "    </tr>\n",
              "  </tbody>\n",
              "</table>\n",
              "<p>27656 rows × 11 columns</p>\n",
              "</div>"
            ],
            "text/plain": [
              "                                                 content  ...  year\n",
              "13466  Today is the first day of the rest of your lif...  ...  2014\n",
              "13467  This very expensive GLOBAL WARMING bullshit ha...  ...  2014\n",
              "13468  \" @ ScreenPlayWritr: @ realDonaldTrump Is Al G...  ...  2014\n",
              "13469  \" @ MeleMallory: @ realDonaldTrump You know it...  ...  2014\n",
              "13470  \" @ noahshappy: @ realDonaldTrump very true co...  ...  2014\n",
              "...                                                  ...  ...   ...\n",
              "41117  I have never seen the Republican Party as Stro...  ...  2020\n",
              "41118  Now Mini Mike Bloomberg is critical of Jack Wi...  ...  2020\n",
              "41119  I was thrilled to be back in the Great State o...  ...  2020\n",
              "41120  “In the House, the President got less due proc...  ...  2020\n",
              "41121  A great show! Check it out tonight at 9pm. @ F...  ...  2020\n",
              "\n",
              "[27656 rows x 11 columns]"
            ]
          },
          "metadata": {
            "tags": []
          },
          "execution_count": 3
        }
      ]
    },
    {
      "cell_type": "code",
      "metadata": {
        "id": "iv0TlDFN21-c"
      },
      "source": [
        "from sklearn.feature_extraction.text import CountVectorizer\n",
        "from sklearn.metrics.pairwise import cosine_similarity, cosine_distances\n",
        "\n",
        "# Create randomized training and testing sets from the full data set (randomized to account for the affect of time on his word use)\n",
        "tweets_train_df = trump_tweets_2014on.sample(frac = 0.95)\n",
        "tweets_test_df = trump_tweets_2014on.drop(tweets_train_df.index)"
      ],
      "execution_count": 4,
      "outputs": []
    },
    {
      "cell_type": "code",
      "metadata": {
        "colab": {
          "base_uri": "https://localhost:8080/"
        },
        "id": "9jKRrXEg3JRZ",
        "outputId": "1efe89f3-de2c-44ea-d8d2-c7c6039e1412"
      },
      "source": [
        "# Create a training documnet series\n",
        "tr_content_docs = tweets_train_df['content'].squeeze()\n",
        "tr_content_docs = tr_content_docs.reset_index(drop=True)\n",
        "tr_content_docs"
      ],
      "execution_count": 5,
      "outputs": [
        {
          "output_type": "execute_result",
          "data": {
            "text/plain": [
              "0        \" @ linnie13: @ greta @ realDonaldTrump @ FoxN...\n",
              "1        \" @ JoeQuinn6: @ realDonaldTrump America needs...\n",
              "2        However beautiful the strategy, you should occ...\n",
              "3        Great poll out of Nevada- thank you! See you s...\n",
              "4        We only want to admit those who love our peopl...\n",
              "                               ...                        \n",
              "26268    America’s greatest treasure is our people – an...\n",
              "26269    \"@UmpireRobert: @ realDonaldTrump is this one ...\n",
              "26270    “Age is whatever you think it is. You are as o...\n",
              "26271    “You have to learn the rules of the game. And ...\n",
              "26272    \" @ OfficialTentBoy: Even young conservatives ...\n",
              "Name: content, Length: 26273, dtype: object"
            ]
          },
          "metadata": {
            "tags": []
          },
          "execution_count": 5
        }
      ]
    },
    {
      "cell_type": "code",
      "metadata": {
        "colab": {
          "base_uri": "https://localhost:8080/"
        },
        "id": "kOhnhrXE3MoD",
        "outputId": "b7547fb7-b145-44a6-d48f-d88cc9d4b8ec"
      },
      "source": [
        "# Create test document series\n",
        "te_content_docs = tweets_test_df['content'].squeeze()\n",
        "te_content_docs = te_content_docs.reset_index(drop=True)\n",
        "te_content_docs"
      ],
      "execution_count": 6,
      "outputs": [
        {
          "output_type": "execute_result",
          "data": {
            "text/plain": [
              "0       Record snowfall & freezing temps throughout th...\n",
              "1       Entrepreneurs: Set the example and you'll be a...\n",
              "2       We had a GREAT year @ Macys with ties, shirts ...\n",
              "3       \" @ 18_4_LIFE: @ realDonaldTrump @caleb2207 Yo...\n",
              "4       President Obama just fired the ObamaCare websi...\n",
              "                              ...                        \n",
              "1378    ....and, if Republicans win in court and take ...\n",
              "1379    We are helping Apple all of the time on TRADE ...\n",
              "1380    Mini Mike Bloomberg doesn’t get on the Democra...\n",
              "1381    They are rigging the election again against Be...\n",
              "1382    ....Joe Biden, and Bernie is shut out again. V...\n",
              "Name: content, Length: 1383, dtype: object"
            ]
          },
          "metadata": {
            "tags": []
          },
          "execution_count": 6
        }
      ]
    },
    {
      "cell_type": "code",
      "metadata": {
        "id": "4VfmdV3W3Upp"
      },
      "source": [
        "from sklearn.feature_extraction.text import TfidfVectorizer\n",
        "\n",
        "def predict_criticism(train_docs, test_docs, test_df):\n",
        "  vec = TfidfVectorizer(norm=None)\n",
        "  vec.fit(train_docs) # Train the vectorizer with the training documents\n",
        "  tfidf_sparse = vec.transform(test_docs) # Transform the testing documents with the fitted vectorizer\n",
        "  df_predict = pd.DataFrame(columns=['index', 'tweet', 'criticism']) # Create a dataframe to organize the results\n",
        "  c = 0\n",
        "  for i in range(0, len(test_docs)):\n",
        "    sim = pd.DataFrame(cosine_similarity(tfidf_sparse)[i]) # Create a dataframe with the cosine similarities between the test data point and the training data\n",
        "    sim.columns = [\"cos\"]\n",
        "    most_sim = sim.sort_values(by='cos', ascending=False) # Sort the cosine similarities in descending order\n",
        "    index = most_sim[1: 6].index # Find the 5 most similar neighbors (excluding index 0 as that is the cosine similarity between the test document and itself)\n",
        "    criticisms_ = []\n",
        "    for j in index:\n",
        "      criticisms_ += [test_df.iloc[j][\"indicator\"]] # Add the indicator of each neighbor\n",
        "    df_criticism_count = pd.DataFrame({'Criticism': criticisms_})\n",
        "    criticism_ = df_criticism_count[\"Criticism\"].value_counts().idxmax() # Find the most common indicator of all neighbors\n",
        "    content = test_df.iloc[i]['content']\n",
        "    df_predict.loc[c] = [i, content, criticism_]\n",
        "    c += 1\n",
        "  return df_predict"
      ],
      "execution_count": 7,
      "outputs": []
    },
    {
      "cell_type": "code",
      "metadata": {
        "colab": {
          "base_uri": "https://localhost:8080/"
        },
        "id": "8skzhX5m6i_4",
        "outputId": "e403465e-cfef-462f-83a0-2830b261b9ae"
      },
      "source": [
        "df_predict = predict_criticism(tr_content_docs, te_content_docs, tweets_test_df)\n",
        "df_predict[\"criticism\"].value_counts()"
      ],
      "execution_count": 8,
      "outputs": [
        {
          "output_type": "execute_result",
          "data": {
            "text/plain": [
              "0.0    1339\n",
              "1.0      44\n",
              "Name: criticism, dtype: int64"
            ]
          },
          "metadata": {
            "tags": []
          },
          "execution_count": 8
        }
      ]
    },
    {
      "cell_type": "code",
      "metadata": {
        "colab": {
          "base_uri": "https://localhost:8080/"
        },
        "id": "2Cvba8AJ6jrx",
        "outputId": "c25e522f-1665-4377-c284-4f581a8f58f0"
      },
      "source": [
        "predict = tweets_test_df.merge(df_predict, how=\"left\", left_on=\"content\", right_on=\"tweet\")\n",
        "predict[\"correct\"] = predict[\"indicator\"] - predict[\"criticism\"]\n",
        "predict[\"correct\"].value_counts(normalize=True)"
      ],
      "execution_count": 9,
      "outputs": [
        {
          "output_type": "execute_result",
          "data": {
            "text/plain": [
              " 0.0    0.917690\n",
              " 1.0    0.063538\n",
              "-1.0    0.018773\n",
              "Name: correct, dtype: float64"
            ]
          },
          "metadata": {
            "tags": []
          },
          "execution_count": 9
        }
      ]
    },
    {
      "cell_type": "markdown",
      "metadata": {
        "id": "laBluSoY9zqr"
      },
      "source": [
        "**Accuracy: ~91%**"
      ]
    },
    {
      "cell_type": "markdown",
      "metadata": {
        "id": "K9ojBYDi12g1"
      },
      "source": [
        "# **Machine Learning: Time of Day**\n",
        "Using K-Nearest-Neighbors, we train a model to attempt to predict what time of day a tweet was sent based on the tf-idf of word-usage of his tweets."
      ]
    },
    {
      "cell_type": "code",
      "metadata": {
        "id": "nD4c6bjaaRtl"
      },
      "source": [
        "# A map to create a \"time of day\" column which splits the hours of the day into four, six-hour time chunks\n",
        "def time_of_day(c):\n",
        "  time = int(c[:2])\n",
        "  if 4 <= time < 10:\n",
        "    return \"Morning\"\n",
        "  elif 10 <= time < 16:\n",
        "    return \"Midday\"\n",
        "  elif 16 <= time < 22:\n",
        "    return \"Evening\"\n",
        "  else:\n",
        "    return \"Night\""
      ],
      "execution_count": 10,
      "outputs": []
    },
    {
      "cell_type": "code",
      "metadata": {
        "id": "k-mGOyYEO-Bw"
      },
      "source": [
        "# A map to create an \"indicator\" number for each time chunk\n",
        "def to_number(c):\n",
        "  if c == \"Morning\":\n",
        "    return 1\n",
        "  elif c == \"Midday\":\n",
        "    return 2\n",
        "  elif c == \"Evening\":\n",
        "    return 3\n",
        "  else:\n",
        "    return 4"
      ],
      "execution_count": 11,
      "outputs": []
    },
    {
      "cell_type": "code",
      "metadata": {
        "colab": {
          "base_uri": "https://localhost:8080/",
          "height": 606
        },
        "id": "e1qEwW_OLuxr",
        "outputId": "eef43947-cfa5-4e68-fa13-cbd252999c9c"
      },
      "source": [
        "# Apply above maps\n",
        "trump_tweets[\"time of day\"] = trump_tweets['time'].map(time_of_day)\n",
        "trump_tweets['time indicator'] = trump_tweets['time of day'].map(to_number)\n",
        "trump_tweets"
      ],
      "execution_count": 12,
      "outputs": [
        {
          "output_type": "execute_result",
          "data": {
            "text/html": [
              "<div>\n",
              "<style scoped>\n",
              "    .dataframe tbody tr th:only-of-type {\n",
              "        vertical-align: middle;\n",
              "    }\n",
              "\n",
              "    .dataframe tbody tr th {\n",
              "        vertical-align: top;\n",
              "    }\n",
              "\n",
              "    .dataframe thead th {\n",
              "        text-align: right;\n",
              "    }\n",
              "</style>\n",
              "<table border=\"1\" class=\"dataframe\">\n",
              "  <thead>\n",
              "    <tr style=\"text-align: right;\">\n",
              "      <th></th>\n",
              "      <th>content</th>\n",
              "      <th>date</th>\n",
              "      <th>retweets</th>\n",
              "      <th>favorites</th>\n",
              "      <th>mentions</th>\n",
              "      <th>hashtags</th>\n",
              "      <th>target</th>\n",
              "      <th>insult</th>\n",
              "      <th>indicator</th>\n",
              "      <th>time</th>\n",
              "      <th>year</th>\n",
              "      <th>time of day</th>\n",
              "      <th>time indicator</th>\n",
              "    </tr>\n",
              "  </thead>\n",
              "  <tbody>\n",
              "    <tr>\n",
              "      <th>0</th>\n",
              "      <td>Be sure to tune in and watch Donald Trump on L...</td>\n",
              "      <td>2009-05-04 20:54:25</td>\n",
              "      <td>500</td>\n",
              "      <td>868</td>\n",
              "      <td>None</td>\n",
              "      <td>None</td>\n",
              "      <td>None</td>\n",
              "      <td>None</td>\n",
              "      <td>0.0</td>\n",
              "      <td>20:54:25</td>\n",
              "      <td>2009</td>\n",
              "      <td>Evening</td>\n",
              "      <td>3</td>\n",
              "    </tr>\n",
              "    <tr>\n",
              "      <th>1</th>\n",
              "      <td>Donald Trump will be appearing on The View tom...</td>\n",
              "      <td>2009-05-05 03:00:10</td>\n",
              "      <td>33</td>\n",
              "      <td>273</td>\n",
              "      <td>None</td>\n",
              "      <td>None</td>\n",
              "      <td>None</td>\n",
              "      <td>None</td>\n",
              "      <td>0.0</td>\n",
              "      <td>03:00:10</td>\n",
              "      <td>2009</td>\n",
              "      <td>Night</td>\n",
              "      <td>4</td>\n",
              "    </tr>\n",
              "    <tr>\n",
              "      <th>2</th>\n",
              "      <td>Donald Trump reads Top Ten Financial Tips on L...</td>\n",
              "      <td>2009-05-08 15:38:08</td>\n",
              "      <td>12</td>\n",
              "      <td>18</td>\n",
              "      <td>None</td>\n",
              "      <td>None</td>\n",
              "      <td>None</td>\n",
              "      <td>None</td>\n",
              "      <td>0.0</td>\n",
              "      <td>15:38:08</td>\n",
              "      <td>2009</td>\n",
              "      <td>Midday</td>\n",
              "      <td>2</td>\n",
              "    </tr>\n",
              "    <tr>\n",
              "      <th>3</th>\n",
              "      <td>New Blog Post: Celebrity Apprentice Finale and...</td>\n",
              "      <td>2009-05-08 22:40:15</td>\n",
              "      <td>11</td>\n",
              "      <td>24</td>\n",
              "      <td>None</td>\n",
              "      <td>None</td>\n",
              "      <td>None</td>\n",
              "      <td>None</td>\n",
              "      <td>0.0</td>\n",
              "      <td>22:40:15</td>\n",
              "      <td>2009</td>\n",
              "      <td>Night</td>\n",
              "      <td>4</td>\n",
              "    </tr>\n",
              "    <tr>\n",
              "      <th>4</th>\n",
              "      <td>\"My persona will never be that of a wallflower...</td>\n",
              "      <td>2009-05-12 16:07:28</td>\n",
              "      <td>1399</td>\n",
              "      <td>1965</td>\n",
              "      <td>None</td>\n",
              "      <td>None</td>\n",
              "      <td>None</td>\n",
              "      <td>None</td>\n",
              "      <td>0.0</td>\n",
              "      <td>16:07:28</td>\n",
              "      <td>2009</td>\n",
              "      <td>Evening</td>\n",
              "      <td>3</td>\n",
              "    </tr>\n",
              "    <tr>\n",
              "      <th>...</th>\n",
              "      <td>...</td>\n",
              "      <td>...</td>\n",
              "      <td>...</td>\n",
              "      <td>...</td>\n",
              "      <td>...</td>\n",
              "      <td>...</td>\n",
              "      <td>...</td>\n",
              "      <td>...</td>\n",
              "      <td>...</td>\n",
              "      <td>...</td>\n",
              "      <td>...</td>\n",
              "      <td>...</td>\n",
              "      <td>...</td>\n",
              "    </tr>\n",
              "    <tr>\n",
              "      <th>41117</th>\n",
              "      <td>I have never seen the Republican Party as Stro...</td>\n",
              "      <td>2020-01-19 19:24:52</td>\n",
              "      <td>32620</td>\n",
              "      <td>213817</td>\n",
              "      <td>None</td>\n",
              "      <td>None</td>\n",
              "      <td>None</td>\n",
              "      <td>None</td>\n",
              "      <td>0.0</td>\n",
              "      <td>19:24:52</td>\n",
              "      <td>2020</td>\n",
              "      <td>Evening</td>\n",
              "      <td>3</td>\n",
              "    </tr>\n",
              "    <tr>\n",
              "      <th>41118</th>\n",
              "      <td>Now Mini Mike Bloomberg is critical of Jack Wi...</td>\n",
              "      <td>2020-01-19 22:12:20</td>\n",
              "      <td>36239</td>\n",
              "      <td>149571</td>\n",
              "      <td>None</td>\n",
              "      <td>None</td>\n",
              "      <td>michael-bloomberg</td>\n",
              "      <td>Mini Mike</td>\n",
              "      <td>1.0</td>\n",
              "      <td>22:12:20</td>\n",
              "      <td>2020</td>\n",
              "      <td>Night</td>\n",
              "      <td>4</td>\n",
              "    </tr>\n",
              "    <tr>\n",
              "      <th>41119</th>\n",
              "      <td>I was thrilled to be back in the Great State o...</td>\n",
              "      <td>2020-01-20 01:27:07</td>\n",
              "      <td>16588</td>\n",
              "      <td>66944</td>\n",
              "      <td>None</td>\n",
              "      <td>#</td>\n",
              "      <td>None</td>\n",
              "      <td>None</td>\n",
              "      <td>0.0</td>\n",
              "      <td>01:27:07</td>\n",
              "      <td>2020</td>\n",
              "      <td>Night</td>\n",
              "      <td>4</td>\n",
              "    </tr>\n",
              "    <tr>\n",
              "      <th>41120</th>\n",
              "      <td>“In the House, the President got less due proc...</td>\n",
              "      <td>2020-01-20 02:16:00</td>\n",
              "      <td>20599</td>\n",
              "      <td>81921</td>\n",
              "      <td>@ @ @</td>\n",
              "      <td>None</td>\n",
              "      <td>None</td>\n",
              "      <td>None</td>\n",
              "      <td>0.0</td>\n",
              "      <td>02:16:00</td>\n",
              "      <td>2020</td>\n",
              "      <td>Night</td>\n",
              "      <td>4</td>\n",
              "    </tr>\n",
              "    <tr>\n",
              "      <th>41121</th>\n",
              "      <td>A great show! Check it out tonight at 9pm. @ F...</td>\n",
              "      <td>2020-01-20 02:57:49</td>\n",
              "      <td>7947</td>\n",
              "      <td>34902</td>\n",
              "      <td>@</td>\n",
              "      <td>None</td>\n",
              "      <td>None</td>\n",
              "      <td>None</td>\n",
              "      <td>0.0</td>\n",
              "      <td>02:57:49</td>\n",
              "      <td>2020</td>\n",
              "      <td>Night</td>\n",
              "      <td>4</td>\n",
              "    </tr>\n",
              "  </tbody>\n",
              "</table>\n",
              "<p>41122 rows × 13 columns</p>\n",
              "</div>"
            ],
            "text/plain": [
              "                                                 content  ... time indicator\n",
              "0      Be sure to tune in and watch Donald Trump on L...  ...              3\n",
              "1      Donald Trump will be appearing on The View tom...  ...              4\n",
              "2      Donald Trump reads Top Ten Financial Tips on L...  ...              2\n",
              "3      New Blog Post: Celebrity Apprentice Finale and...  ...              4\n",
              "4      \"My persona will never be that of a wallflower...  ...              3\n",
              "...                                                  ...  ...            ...\n",
              "41117  I have never seen the Republican Party as Stro...  ...              3\n",
              "41118  Now Mini Mike Bloomberg is critical of Jack Wi...  ...              4\n",
              "41119  I was thrilled to be back in the Great State o...  ...              4\n",
              "41120  “In the House, the President got less due proc...  ...              4\n",
              "41121  A great show! Check it out tonight at 9pm. @ F...  ...              4\n",
              "\n",
              "[41122 rows x 13 columns]"
            ]
          },
          "metadata": {
            "tags": []
          },
          "execution_count": 12
        }
      ]
    },
    {
      "cell_type": "code",
      "metadata": {
        "id": "WSYr_XT7NBRi"
      },
      "source": [
        "# Create randomized training and testing sets from the full data set (randomized to account for the affect of time on his word use)\n",
        "tweets_train_df = trump_tweets.sample(frac = 0.95)\n",
        "tweets_test_df = trump_tweets.drop(tweets_train_df.index)"
      ],
      "execution_count": 13,
      "outputs": []
    },
    {
      "cell_type": "code",
      "metadata": {
        "colab": {
          "base_uri": "https://localhost:8080/"
        },
        "id": "v7eLeJ_UNKNj",
        "outputId": "0cd3c0cb-1ccc-4fe3-95c2-3c8a08a762c3"
      },
      "source": [
        "# Create a training documnet series\n",
        "tr_content_docs = tweets_train_df['content'].squeeze()\n",
        "tr_content_docs = tr_content_docs.reset_index(drop=True)\n",
        "tr_content_docs"
      ],
      "execution_count": 14,
      "outputs": [
        {
          "output_type": "execute_result",
          "data": {
            "text/plain": [
              "0        Today in Alaska, it was my great honor to visi...\n",
              "1        \" @ userback: @ realDonaldTrump @ realJoeMurra...\n",
              "2        The Democrats have been told, and fully unders...\n",
              "3        Via @DC_Decoder: \"Donald Trump to 'surprise' G...\n",
              "4        President Obama - close down the flights from ...\n",
              "                               ...                        \n",
              "39061    \" @ EastonWestwood: It's PATHETIC for @ JonahN...\n",
              "39062    Wow! What a great night. Thank you to all of t...\n",
              "39063    ....financial gain is a Federal Gratuity Statu...\n",
              "39064    Are all the illegals pouring into our country ...\n",
              "39065    To aspiring entrepreneurs: Be focused! Know yo...\n",
              "Name: content, Length: 39066, dtype: object"
            ]
          },
          "metadata": {
            "tags": []
          },
          "execution_count": 14
        }
      ]
    },
    {
      "cell_type": "code",
      "metadata": {
        "colab": {
          "base_uri": "https://localhost:8080/"
        },
        "id": "31gDNpp4NOsl",
        "outputId": "1e158d83-3488-403a-f332-b37a0324805b"
      },
      "source": [
        "# Create test document series\n",
        "te_content_docs = tweets_test_df['content'].squeeze()\n",
        "te_content_docs = te_content_docs.reset_index(drop=True)\n",
        "te_content_docs"
      ],
      "execution_count": 15,
      "outputs": [
        {
          "output_type": "execute_result",
          "data": {
            "text/plain": [
              "0       Be sure to tune in and watch Donald Trump on L...\n",
              "1       \"Always know you could be on the precipice of ...\n",
              "2       \"Keep it fast, short and direct - whatever it ...\n",
              "3       Browse Donald Trump's Summer Reading List for ...\n",
              "4       Golf Channel & Donald Trump's World of Golf ho...\n",
              "                              ...                        \n",
              "2051    We love Australia!https://twitter.com/ScottMor...\n",
              "2052    I love constantly proving them wrong. It’s eas...\n",
              "2053    Congratulations to @ serenawilliams on another...\n",
              "2054    Steyer is running low on cash. Nobody knows hi...\n",
              "2055    Here we go again, another Con Job by the Do No...\n",
              "Name: content, Length: 2056, dtype: object"
            ]
          },
          "metadata": {
            "tags": []
          },
          "execution_count": 15
        }
      ]
    },
    {
      "cell_type": "code",
      "metadata": {
        "id": "qZxC3DJxNW1j"
      },
      "source": [
        "from sklearn.feature_extraction.text import TfidfVectorizer\n",
        "\n",
        "def predict_time(train_docs, test_docs, test_df):\n",
        "  vec = TfidfVectorizer(norm=None)\n",
        "  vec.fit(train_docs) # Train the vectorizer with the training documents\n",
        "  tfidf_sparse = vec.transform(test_docs) # Transform the testing documents with the fitted vectorizer\n",
        "  df_predict = pd.DataFrame(columns=['index', 'tweet', 'time of day', 'avg time indicator']) # Create a dataframe to organize the results\n",
        "  c = 0\n",
        "  for i in range(0, len(test_docs)):\n",
        "    sim = pd.DataFrame(cosine_similarity(tfidf_sparse)[i]) # Create a dataframe with the cosine similarities between the test data point and the training data\n",
        "    sim.columns = [\"cos\"]\n",
        "    most_sim = sim.sort_values(by='cos', ascending=False) # Sort the cosine similarities in descending order\n",
        "    index = most_sim[1: 6].index # Find the 5 most similar neighbors (excluding index 0 as that is the cosine similarity between the test document and itself)\n",
        "    times_ = []\n",
        "    indicators_ = []\n",
        "    for j in index:\n",
        "      times_ += [test_df.iloc[j][\"time of day\"]] # Add the time of day for each neighbor\n",
        "      indicators_ += [test_df.iloc[j]['time indicator']] #Add the indicator variable for each neighbor\n",
        "    df_time_count = pd.DataFrame({'Time': times_})\n",
        "    time_ = df_time_count[\"Time\"].value_counts().idxmax() # Find the most frequent time of day of similar neighbors\n",
        "    indicator_c = 0\n",
        "    for k in indicators_:\n",
        "      indicator_c += k\n",
        "    indicator_ = indicator_c / (len(indicators_)) # Find the average indicator of similar neighbors\n",
        "    content = test_df.iloc[i]['content']\n",
        "    df_predict.loc[c] = [i, content, time_, indicator_]\n",
        "    c += 1\n",
        "  return df_predict"
      ],
      "execution_count": 16,
      "outputs": []
    },
    {
      "cell_type": "code",
      "metadata": {
        "id": "vQZRglInNvdX"
      },
      "source": [
        "df_predict = predict_time(tr_content_docs, te_content_docs, tweets_test_df)"
      ],
      "execution_count": 17,
      "outputs": []
    },
    {
      "cell_type": "code",
      "metadata": {
        "id": "VuWQtBqm_XiL"
      },
      "source": [
        "df_predict['abs time indicator'] = df_predict['time of day'].map(to_number) # Apply the map to create the absolute indicators"
      ],
      "execution_count": 18,
      "outputs": []
    },
    {
      "cell_type": "code",
      "metadata": {
        "id": "uYeKRWUeOFFQ",
        "colab": {
          "base_uri": "https://localhost:8080/"
        },
        "outputId": "4167487f-fbbf-42bd-ad83-483d42af7eb5"
      },
      "source": [
        "df_predict[\"time of day\"].value_counts()"
      ],
      "execution_count": 19,
      "outputs": [
        {
          "output_type": "execute_result",
          "data": {
            "text/plain": [
              "Evening    957\n",
              "Night      536\n",
              "Midday     450\n",
              "Morning    113\n",
              "Name: time of day, dtype: int64"
            ]
          },
          "metadata": {
            "tags": []
          },
          "execution_count": 19
        }
      ]
    },
    {
      "cell_type": "code",
      "metadata": {
        "id": "UxBXFvRIPYtz",
        "colab": {
          "base_uri": "https://localhost:8080/"
        },
        "outputId": "13e105ea-8af1-4cc2-94e7-66511a69bac3"
      },
      "source": [
        "predict = tweets_test_df.merge(df_predict, how=\"left\", left_on=\"content\", right_on=\"tweet\") # Merge the two DataFrames\n",
        "predict[\"avg correct\"] = predict[\"time indicator\"] - predict[\"avg time indicator\"]\n",
        "predict['avg correct'] = predict['avg correct'].round(decimals=1)\n",
        "avg_vals = predict[\"avg correct\"].value_counts(normalize=True)\n",
        "avg_vals"
      ],
      "execution_count": 20,
      "outputs": [
        {
          "output_type": "execute_result",
          "data": {
            "text/plain": [
              "-0.4    0.079767\n",
              " 0.0    0.076362\n",
              " 0.4    0.074903\n",
              "-0.2    0.069553\n",
              " 0.2    0.065661\n",
              " 1.0    0.063716\n",
              " 0.8    0.059339\n",
              " 0.6    0.057393\n",
              "-0.6    0.056420\n",
              "-0.8    0.055447\n",
              " 1.2    0.049125\n",
              " 1.4    0.040856\n",
              "-1.2    0.039883\n",
              "-1.0    0.037938\n",
              " 1.6    0.024805\n",
              "-1.6    0.024319\n",
              "-1.4    0.021887\n",
              "-1.8    0.020428\n",
              "-2.0    0.019942\n",
              " 1.8    0.015564\n",
              " 2.0    0.009728\n",
              "-2.2    0.009241\n",
              "-2.4    0.008755\n",
              " 2.2    0.007782\n",
              "-2.6    0.003405\n",
              " 2.4    0.002918\n",
              "-2.8    0.001946\n",
              " 2.8    0.001459\n",
              " 2.6    0.000973\n",
              "-3.0    0.000486\n",
              "Name: avg correct, dtype: float64"
            ]
          },
          "metadata": {
            "tags": []
          },
          "execution_count": 20
        }
      ]
    },
    {
      "cell_type": "code",
      "metadata": {
        "id": "zNPEke6i_q6E",
        "colab": {
          "base_uri": "https://localhost:8080/"
        },
        "outputId": "1bbfe0aa-e271-4a39-c1ad-1213e0d1638a"
      },
      "source": [
        "predict[\"abs correct\"] = predict[\"time indicator\"] - predict[\"abs time indicator\"]\n",
        "abs_vals = predict['abs correct'].value_counts(normalize=True)\n",
        "abs_vals"
      ],
      "execution_count": 21,
      "outputs": [
        {
          "output_type": "execute_result",
          "data": {
            "text/plain": [
              " 0    0.366245\n",
              "-1    0.208171\n",
              " 1    0.203794\n",
              "-2    0.099708\n",
              " 2    0.068093\n",
              "-3    0.038424\n",
              " 3    0.015564\n",
              "Name: abs correct, dtype: float64"
            ]
          },
          "metadata": {
            "tags": []
          },
          "execution_count": 21
        }
      ]
    },
    {
      "cell_type": "code",
      "metadata": {
        "id": "HizIaPkji3zG",
        "colab": {
          "base_uri": "https://localhost:8080/",
          "height": 306
        },
        "outputId": "38d29da5-89fe-4cb0-f911-5e5a0f33cfe6"
      },
      "source": [
        "import matplotlib.pyplot as plt \n",
        "\n",
        "avg_vals_df = pd.DataFrame(avg_vals)\n",
        "avg_vals_df = avg_vals_df.sort_index()\n",
        "avg_vals_df.plot.bar()\n",
        "plt.xlabel(\"Relative Accuracy\")\n",
        "plt.ylabel(\"Frequency\")"
      ],
      "execution_count": 22,
      "outputs": [
        {
          "output_type": "execute_result",
          "data": {
            "text/plain": [
              "Text(0, 0.5, 'Frequency')"
            ]
          },
          "metadata": {
            "tags": []
          },
          "execution_count": 22
        },
        {
          "output_type": "display_data",
          "data": {
            "image/png": "[encoded data removed]",
            "text/plain": [
              "<Figure size 432x288 with 1 Axes>"
            ]
          },
          "metadata": {
            "tags": [],
            "needs_background": "light"
          }
        }
      ]
    },
    {
      "cell_type": "markdown",
      "metadata": {
        "id": "LwShhemF9-5w"
      },
      "source": [
        "As seen by the graph, it is most common for the model to predict a time of day closer to the actual time of day, creating a rough bell-curve shape with perfect accuracy as the mean. As seen below, some predictions that had correctness values of +-0.2 or +-0.4 had the correct time-of-day prediction.\n",
        "\n",
        "The overall accuracy of the absolute labels of the model is **~37%**."
      ]
    },
    {
      "cell_type": "code",
      "metadata": {
        "id": "IIIZmrj--unq",
        "colab": {
          "base_uri": "https://localhost:8080/",
          "height": 813
        },
        "outputId": "427a9b5e-1913-4955-f3ad-0e2b915c16f0"
      },
      "source": [
        "predict"
      ],
      "execution_count": 23,
      "outputs": [
        {
          "output_type": "execute_result",
          "data": {
            "text/html": [
              "<div>\n",
              "<style scoped>\n",
              "    .dataframe tbody tr th:only-of-type {\n",
              "        vertical-align: middle;\n",
              "    }\n",
              "\n",
              "    .dataframe tbody tr th {\n",
              "        vertical-align: top;\n",
              "    }\n",
              "\n",
              "    .dataframe thead th {\n",
              "        text-align: right;\n",
              "    }\n",
              "</style>\n",
              "<table border=\"1\" class=\"dataframe\">\n",
              "  <thead>\n",
              "    <tr style=\"text-align: right;\">\n",
              "      <th></th>\n",
              "      <th>content</th>\n",
              "      <th>date</th>\n",
              "      <th>retweets</th>\n",
              "      <th>favorites</th>\n",
              "      <th>mentions</th>\n",
              "      <th>hashtags</th>\n",
              "      <th>target</th>\n",
              "      <th>insult</th>\n",
              "      <th>indicator</th>\n",
              "      <th>time</th>\n",
              "      <th>year</th>\n",
              "      <th>time of day_x</th>\n",
              "      <th>time indicator</th>\n",
              "      <th>index</th>\n",
              "      <th>tweet</th>\n",
              "      <th>time of day_y</th>\n",
              "      <th>avg time indicator</th>\n",
              "      <th>abs time indicator</th>\n",
              "      <th>avg correct</th>\n",
              "      <th>abs correct</th>\n",
              "    </tr>\n",
              "  </thead>\n",
              "  <tbody>\n",
              "    <tr>\n",
              "      <th>0</th>\n",
              "      <td>Be sure to tune in and watch Donald Trump on L...</td>\n",
              "      <td>2009-05-04 20:54:25</td>\n",
              "      <td>500</td>\n",
              "      <td>868</td>\n",
              "      <td>None</td>\n",
              "      <td>None</td>\n",
              "      <td>None</td>\n",
              "      <td>None</td>\n",
              "      <td>0.0</td>\n",
              "      <td>20:54:25</td>\n",
              "      <td>2009</td>\n",
              "      <td>Evening</td>\n",
              "      <td>3</td>\n",
              "      <td>0</td>\n",
              "      <td>Be sure to tune in and watch Donald Trump on L...</td>\n",
              "      <td>Evening</td>\n",
              "      <td>3.2</td>\n",
              "      <td>3</td>\n",
              "      <td>-0.2</td>\n",
              "      <td>0</td>\n",
              "    </tr>\n",
              "    <tr>\n",
              "      <th>1</th>\n",
              "      <td>\"Always know you could be on the precipice of ...</td>\n",
              "      <td>2009-05-20 15:25:39</td>\n",
              "      <td>29</td>\n",
              "      <td>53</td>\n",
              "      <td>None</td>\n",
              "      <td>None</td>\n",
              "      <td>None</td>\n",
              "      <td>None</td>\n",
              "      <td>0.0</td>\n",
              "      <td>15:25:39</td>\n",
              "      <td>2009</td>\n",
              "      <td>Midday</td>\n",
              "      <td>2</td>\n",
              "      <td>1</td>\n",
              "      <td>\"Always know you could be on the precipice of ...</td>\n",
              "      <td>Evening</td>\n",
              "      <td>2.6</td>\n",
              "      <td>3</td>\n",
              "      <td>-0.6</td>\n",
              "      <td>-1</td>\n",
              "    </tr>\n",
              "    <tr>\n",
              "      <th>2</th>\n",
              "      <td>\"Keep it fast, short and direct - whatever it ...</td>\n",
              "      <td>2009-05-22 04:59:39</td>\n",
              "      <td>52</td>\n",
              "      <td>70</td>\n",
              "      <td>None</td>\n",
              "      <td>None</td>\n",
              "      <td>None</td>\n",
              "      <td>None</td>\n",
              "      <td>0.0</td>\n",
              "      <td>04:59:39</td>\n",
              "      <td>2009</td>\n",
              "      <td>Morning</td>\n",
              "      <td>1</td>\n",
              "      <td>2</td>\n",
              "      <td>\"Keep it fast, short and direct - whatever it ...</td>\n",
              "      <td>Midday</td>\n",
              "      <td>1.8</td>\n",
              "      <td>2</td>\n",
              "      <td>-0.8</td>\n",
              "      <td>-1</td>\n",
              "    </tr>\n",
              "    <tr>\n",
              "      <th>3</th>\n",
              "      <td>Browse Donald Trump's Summer Reading List for ...</td>\n",
              "      <td>2009-08-04 15:50:58</td>\n",
              "      <td>32</td>\n",
              "      <td>18</td>\n",
              "      <td>None</td>\n",
              "      <td>None</td>\n",
              "      <td>None</td>\n",
              "      <td>None</td>\n",
              "      <td>0.0</td>\n",
              "      <td>15:50:58</td>\n",
              "      <td>2009</td>\n",
              "      <td>Midday</td>\n",
              "      <td>2</td>\n",
              "      <td>3</td>\n",
              "      <td>Browse Donald Trump's Summer Reading List for ...</td>\n",
              "      <td>Midday</td>\n",
              "      <td>2.4</td>\n",
              "      <td>2</td>\n",
              "      <td>-0.4</td>\n",
              "      <td>0</td>\n",
              "    </tr>\n",
              "    <tr>\n",
              "      <th>4</th>\n",
              "      <td>Golf Channel &amp; Donald Trump's World of Golf ho...</td>\n",
              "      <td>2010-01-22 21:51:00</td>\n",
              "      <td>18</td>\n",
              "      <td>3</td>\n",
              "      <td>@TNGC</td>\n",
              "      <td>None</td>\n",
              "      <td>None</td>\n",
              "      <td>None</td>\n",
              "      <td>0.0</td>\n",
              "      <td>21:51:00</td>\n",
              "      <td>2010</td>\n",
              "      <td>Evening</td>\n",
              "      <td>3</td>\n",
              "      <td>4</td>\n",
              "      <td>Golf Channel &amp; Donald Trump's World of Golf ho...</td>\n",
              "      <td>Evening</td>\n",
              "      <td>3.0</td>\n",
              "      <td>3</td>\n",
              "      <td>0.0</td>\n",
              "      <td>0</td>\n",
              "    </tr>\n",
              "    <tr>\n",
              "      <th>...</th>\n",
              "      <td>...</td>\n",
              "      <td>...</td>\n",
              "      <td>...</td>\n",
              "      <td>...</td>\n",
              "      <td>...</td>\n",
              "      <td>...</td>\n",
              "      <td>...</td>\n",
              "      <td>...</td>\n",
              "      <td>...</td>\n",
              "      <td>...</td>\n",
              "      <td>...</td>\n",
              "      <td>...</td>\n",
              "      <td>...</td>\n",
              "      <td>...</td>\n",
              "      <td>...</td>\n",
              "      <td>...</td>\n",
              "      <td>...</td>\n",
              "      <td>...</td>\n",
              "      <td>...</td>\n",
              "      <td>...</td>\n",
              "    </tr>\n",
              "    <tr>\n",
              "      <th>2051</th>\n",
              "      <td>We love Australia!https://twitter.com/ScottMor...</td>\n",
              "      <td>2020-01-07 12:44:32</td>\n",
              "      <td>25144</td>\n",
              "      <td>177643</td>\n",
              "      <td>None</td>\n",
              "      <td>None</td>\n",
              "      <td>None</td>\n",
              "      <td>None</td>\n",
              "      <td>0.0</td>\n",
              "      <td>12:44:32</td>\n",
              "      <td>2020</td>\n",
              "      <td>Midday</td>\n",
              "      <td>2</td>\n",
              "      <td>2051</td>\n",
              "      <td>We love Australia!https://twitter.com/ScottMor...</td>\n",
              "      <td>Evening</td>\n",
              "      <td>2.8</td>\n",
              "      <td>3</td>\n",
              "      <td>-0.8</td>\n",
              "      <td>-1</td>\n",
              "    </tr>\n",
              "    <tr>\n",
              "      <th>2052</th>\n",
              "      <td>I love constantly proving them wrong. It’s eas...</td>\n",
              "      <td>2020-01-10 16:31:27</td>\n",
              "      <td>18286</td>\n",
              "      <td>78875</td>\n",
              "      <td>None</td>\n",
              "      <td>None</td>\n",
              "      <td>None</td>\n",
              "      <td>None</td>\n",
              "      <td>0.0</td>\n",
              "      <td>16:31:27</td>\n",
              "      <td>2020</td>\n",
              "      <td>Evening</td>\n",
              "      <td>3</td>\n",
              "      <td>2052</td>\n",
              "      <td>I love constantly proving them wrong. It’s eas...</td>\n",
              "      <td>Evening</td>\n",
              "      <td>2.6</td>\n",
              "      <td>3</td>\n",
              "      <td>0.4</td>\n",
              "      <td>0</td>\n",
              "    </tr>\n",
              "    <tr>\n",
              "      <th>2053</th>\n",
              "      <td>Congratulations to @ serenawilliams on another...</td>\n",
              "      <td>2020-01-12 14:28:34</td>\n",
              "      <td>8531</td>\n",
              "      <td>52465</td>\n",
              "      <td>@</td>\n",
              "      <td>None</td>\n",
              "      <td>None</td>\n",
              "      <td>None</td>\n",
              "      <td>0.0</td>\n",
              "      <td>14:28:34</td>\n",
              "      <td>2020</td>\n",
              "      <td>Midday</td>\n",
              "      <td>2</td>\n",
              "      <td>2053</td>\n",
              "      <td>Congratulations to @ serenawilliams on another...</td>\n",
              "      <td>Evening</td>\n",
              "      <td>2.8</td>\n",
              "      <td>3</td>\n",
              "      <td>-0.8</td>\n",
              "      <td>-1</td>\n",
              "    </tr>\n",
              "    <tr>\n",
              "      <th>2054</th>\n",
              "      <td>Steyer is running low on cash. Nobody knows hi...</td>\n",
              "      <td>2020-01-15 05:46:25</td>\n",
              "      <td>16408</td>\n",
              "      <td>63212</td>\n",
              "      <td>None</td>\n",
              "      <td>None</td>\n",
              "      <td>None</td>\n",
              "      <td>None</td>\n",
              "      <td>0.0</td>\n",
              "      <td>05:46:25</td>\n",
              "      <td>2020</td>\n",
              "      <td>Morning</td>\n",
              "      <td>1</td>\n",
              "      <td>2054</td>\n",
              "      <td>Steyer is running low on cash. Nobody knows hi...</td>\n",
              "      <td>Evening</td>\n",
              "      <td>2.2</td>\n",
              "      <td>3</td>\n",
              "      <td>-1.2</td>\n",
              "      <td>-2</td>\n",
              "    </tr>\n",
              "    <tr>\n",
              "      <th>2055</th>\n",
              "      <td>Here we go again, another Con Job by the Do No...</td>\n",
              "      <td>2020-01-15 16:33:21</td>\n",
              "      <td>32098</td>\n",
              "      <td>161601</td>\n",
              "      <td>None</td>\n",
              "      <td>None</td>\n",
              "      <td>None</td>\n",
              "      <td>None</td>\n",
              "      <td>0.0</td>\n",
              "      <td>16:33:21</td>\n",
              "      <td>2020</td>\n",
              "      <td>Evening</td>\n",
              "      <td>3</td>\n",
              "      <td>2055</td>\n",
              "      <td>Here we go again, another Con Job by the Do No...</td>\n",
              "      <td>Midday</td>\n",
              "      <td>2.6</td>\n",
              "      <td>2</td>\n",
              "      <td>0.4</td>\n",
              "      <td>1</td>\n",
              "    </tr>\n",
              "  </tbody>\n",
              "</table>\n",
              "<p>2056 rows × 20 columns</p>\n",
              "</div>"
            ],
            "text/plain": [
              "                                                content  ... abs correct\n",
              "0     Be sure to tune in and watch Donald Trump on L...  ...           0\n",
              "1     \"Always know you could be on the precipice of ...  ...          -1\n",
              "2     \"Keep it fast, short and direct - whatever it ...  ...          -1\n",
              "3     Browse Donald Trump's Summer Reading List for ...  ...           0\n",
              "4     Golf Channel & Donald Trump's World of Golf ho...  ...           0\n",
              "...                                                 ...  ...         ...\n",
              "2051  We love Australia!https://twitter.com/ScottMor...  ...          -1\n",
              "2052  I love constantly proving them wrong. It’s eas...  ...           0\n",
              "2053  Congratulations to @ serenawilliams on another...  ...          -1\n",
              "2054  Steyer is running low on cash. Nobody knows hi...  ...          -2\n",
              "2055  Here we go again, another Con Job by the Do No...  ...           1\n",
              "\n",
              "[2056 rows x 20 columns]"
            ]
          },
          "metadata": {
            "tags": []
          },
          "execution_count": 23
        }
      ]
    },
    {
      "cell_type": "markdown",
      "metadata": {
        "id": "iaLKE2U25kQt"
      },
      "source": [
        "# **Machine Learning: Year**\n",
        "Using K-Nearest-Neighbors, we train a model to predict in what year a tweet was tweeted based on the tf-idf of word-usage of his tweets."
      ]
    },
    {
      "cell_type": "code",
      "metadata": {
        "id": "aH5NwRor58ku"
      },
      "source": [
        "# Create randomized training and testing sets from the full data set (randomized to account for the affect of time on his word use)\n",
        "tweets_train_df = trump_tweets.sample(frac = 0.95)\n",
        "tweets_test_df = trump_tweets.drop(tweets_train_df.index)"
      ],
      "execution_count": 24,
      "outputs": []
    },
    {
      "cell_type": "code",
      "metadata": {
        "id": "PFEfNSqK6GB6",
        "colab": {
          "base_uri": "https://localhost:8080/"
        },
        "outputId": "1427cde6-3bba-4459-89da-783871a075ab"
      },
      "source": [
        "# Create a training documnet series\n",
        "tr_content_docs = tweets_train_df['content'].squeeze()\n",
        "tr_content_docs = tr_content_docs.reset_index(drop=True)\n",
        "tr_content_docs"
      ],
      "execution_count": 25,
      "outputs": [
        {
          "output_type": "execute_result",
          "data": {
            "text/plain": [
              "0        “You don’t see a direct quid pro quo in this.”...\n",
              "1        Nobody understands politicians like I do - all...\n",
              "2        The Democratic National Committee, sometimes r...\n",
              "3        Just stopped in Alaska and said hello to our G...\n",
              "4        \" @ TanmayShekhawat: @ realDonaldTrump was inc...\n",
              "                               ...                        \n",
              "39061    The Queen of Soul, Aretha Franklin, is dead. S...\n",
              "39062    The ALS # IceBucketChallenge that Trumps them ...\n",
              "39063    Miss Universe, @ Dayanamendoza, will be on the...\n",
              "39064    \"@Co: CBS reports \"swarms\" of celebrators were...\n",
              "39065    \"@birchtrees47: @ realDonaldTrump cause there ...\n",
              "Name: content, Length: 39066, dtype: object"
            ]
          },
          "metadata": {
            "tags": []
          },
          "execution_count": 25
        }
      ]
    },
    {
      "cell_type": "code",
      "metadata": {
        "id": "gAI5YDGB6KAX",
        "colab": {
          "base_uri": "https://localhost:8080/"
        },
        "outputId": "69ef31bc-8689-4206-f0e1-95f26701b4df"
      },
      "source": [
        "# Create test document series\n",
        "te_content_docs = tweets_test_df['content'].squeeze()\n",
        "te_content_docs = te_content_docs.reset_index(drop=True)\n",
        "te_content_docs"
      ],
      "execution_count": 26,
      "outputs": [
        {
          "output_type": "execute_result",
          "data": {
            "text/plain": [
              "0       Hear Donald Trump discuss big gov spending, ba...\n",
              "1       From Donald Trump: Wishing everyone a wonderfu...\n",
              "2       Superbowl Sunday is a great American tradition...\n",
              "3       The new season of the Celebrity Apprentice is ...\n",
              "4       Scotland is beautiful. I spent several years l...\n",
              "                              ...                        \n",
              "2051    THANK YOU TOLEDO, OHIO!https://twitter.com/i/b...\n",
              "2052    “FBI Director apologizes for FISA Errors (of w...\n",
              "2053    Nancy Pelosi will go down as the absolute wors...\n",
              "2054    Wow! The wonderful Iranian protesters refused ...\n",
              "2055    The Fake News Media and their Democrat Partner...\n",
              "Name: content, Length: 2056, dtype: object"
            ]
          },
          "metadata": {
            "tags": []
          },
          "execution_count": 26
        }
      ]
    },
    {
      "cell_type": "code",
      "metadata": {
        "id": "OZ1jbNqV6Nsv"
      },
      "source": [
        "from sklearn.feature_extraction.text import TfidfVectorizer\n",
        "\n",
        "def predict_year(train_docs, test_docs, test_df):\n",
        "  vec = TfidfVectorizer(norm=None)\n",
        "  vec.fit(train_docs) # Train the vectorizer with the training documents\n",
        "  tfidf_sparse = vec.transform(test_docs) # Transform the testing documents with the fitted vectorizer\n",
        "  df_predict = pd.DataFrame(columns=['index', 'tweet', 'year']) # Create a dataframe to organize the results\n",
        "  c = 0\n",
        "  for i in range(0, len(test_docs)):\n",
        "    sim = pd.DataFrame(cosine_similarity(tfidf_sparse)[i]) # Create a dataframe with the cosine similarities between the test data point and the training data\n",
        "    sim.columns = [\"cos\"]\n",
        "    most_sim = sim.sort_values(by='cos', ascending=False) # Sort the cosine similarities in descending order\n",
        "    index = most_sim[1: 6].index # Find the 5 most similar neighbors (excluding index 0 as that is the cosine similarity between the test document and itself)\n",
        "    years_ = []\n",
        "    for j in index:\n",
        "      years_ += [test_df.iloc[j][\"year\"]] # Add the year of each neighbor\n",
        "    df_year_count = pd.DataFrame({'Year': years_})\n",
        "    year_ = df_year_count[\"Year\"].value_counts().idxmax() # Find the most common year of all neighbors\n",
        "    content = test_df.iloc[i]['content']\n",
        "    df_predict.loc[c] = [i, content, year_]\n",
        "    c += 1\n",
        "  return df_predict"
      ],
      "execution_count": 27,
      "outputs": []
    },
    {
      "cell_type": "code",
      "metadata": {
        "id": "i0VM8H2_7CXu"
      },
      "source": [
        "df_predict = predict_year(tr_content_docs, te_content_docs, tweets_test_df)"
      ],
      "execution_count": 28,
      "outputs": []
    },
    {
      "cell_type": "code",
      "metadata": {
        "id": "xaz0k4oA7FIT",
        "colab": {
          "base_uri": "https://localhost:8080/"
        },
        "outputId": "3085b332-bfde-4902-83f7-829687a1cdb8"
      },
      "source": [
        "predict = tweets_test_df.merge(df_predict, how=\"left\", left_on=\"content\", right_on=\"tweet\")\n",
        "predict[\"correct\"] = predict[\"year_x\"] - predict[\"year_y\"]\n",
        "predict[\"correct\"].value_counts(normalize=True)"
      ],
      "execution_count": 29,
      "outputs": [
        {
          "output_type": "execute_result",
          "data": {
            "text/plain": [
              " 0    0.385326\n",
              "-1    0.151118\n",
              " 1    0.128280\n",
              "-2    0.084062\n",
              " 2    0.063168\n",
              " 4    0.036443\n",
              "-3    0.035471\n",
              " 3    0.035471\n",
              "-4    0.025267\n",
              " 5    0.018950\n",
              "-5    0.013120\n",
              " 6    0.009232\n",
              "-6    0.006317\n",
              "-7    0.003401\n",
              " 7    0.002915\n",
              "-8    0.000972\n",
              " 9    0.000486\n",
              "Name: correct, dtype: float64"
            ]
          },
          "metadata": {
            "tags": []
          },
          "execution_count": 29
        }
      ]
    },
    {
      "cell_type": "markdown",
      "metadata": {
        "id": "9uy1n1_m9TMI"
      },
      "source": [
        "**Accuracy: ~40%**\n",
        "\n",
        "The frequency of the model prediciting other years gets less and less common the farther away the predicited year is."
      ]
    }
  ]
}