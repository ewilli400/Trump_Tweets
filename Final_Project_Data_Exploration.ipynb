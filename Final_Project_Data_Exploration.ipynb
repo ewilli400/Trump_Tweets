{
  "nbformat": 4,
  "nbformat_minor": 0,
  "metadata": {
    "colab": {
      "name": "Final Project Data Exploration",
      "provenance": [],
      "collapsed_sections": [],
      "include_colab_link": true
    },
    "kernelspec": {
      "name": "python3",
      "display_name": "Python 3"
    }
  },
  "cells": [
    {
      "cell_type": "markdown",
      "metadata": {
        "id": "view-in-github",
        "colab_type": "text"
      },
      "source": [
        "<a href=\"https://colab.research.google.com/github/ewilli400/Trump_Tweets/blob/main/Final_Project_Data_Exploration.ipynb\" target=\"_parent\"><img src=\"https://colab.research.google.com/assets/colab-badge.svg\" alt=\"Open In Colab\"/></a>"
      ]
    },
    {
      "cell_type": "code",
      "metadata": {
        "id": "qset83wm0h-N"
      },
      "source": [
        "import pandas as pd"
      ],
      "execution_count": 1,
      "outputs": []
    },
    {
      "cell_type": "code",
      "metadata": {
        "id": "ouYsCAZ71Ap_",
        "colab": {
          "base_uri": "https://localhost:8080/",
          "height": 235
        },
        "outputId": "1e799d26-1df7-4682-f58b-9a9251413587"
      },
      "source": [
        "#reading in the cleaned dataset and setting datetime as index\n",
        "trump_tweets = pd.read_csv(\"https://github.com/ewilli400/trump/blob/main/out%20(4).csv?raw=true\")\n",
        "trump_tweets[\"date\"] = pd.to_datetime(trump_tweets[\"date\"], format=\"%Y-%m-%d %H:%M:%S\")\n",
        "trump_tweets.set_index(\"date\", inplace=True)\n",
        "trump_tweets.head()"
      ],
      "execution_count": 2,
      "outputs": [
        {
          "output_type": "execute_result",
          "data": {
            "text/html": [
              "<div>\n",
              "<style scoped>\n",
              "    .dataframe tbody tr th:only-of-type {\n",
              "        vertical-align: middle;\n",
              "    }\n",
              "\n",
              "    .dataframe tbody tr th {\n",
              "        vertical-align: top;\n",
              "    }\n",
              "\n",
              "    .dataframe thead th {\n",
              "        text-align: right;\n",
              "    }\n",
              "</style>\n",
              "<table border=\"1\" class=\"dataframe\">\n",
              "  <thead>\n",
              "    <tr style=\"text-align: right;\">\n",
              "      <th></th>\n",
              "      <th>content</th>\n",
              "      <th>retweets</th>\n",
              "      <th>favorites</th>\n",
              "      <th>mentions</th>\n",
              "      <th>hashtags</th>\n",
              "      <th>target</th>\n",
              "      <th>insult</th>\n",
              "      <th>indicator</th>\n",
              "      <th>time</th>\n",
              "      <th>year</th>\n",
              "    </tr>\n",
              "    <tr>\n",
              "      <th>date</th>\n",
              "      <th></th>\n",
              "      <th></th>\n",
              "      <th></th>\n",
              "      <th></th>\n",
              "      <th></th>\n",
              "      <th></th>\n",
              "      <th></th>\n",
              "      <th></th>\n",
              "      <th></th>\n",
              "      <th></th>\n",
              "    </tr>\n",
              "  </thead>\n",
              "  <tbody>\n",
              "    <tr>\n",
              "      <th>2009-05-04 20:54:25</th>\n",
              "      <td>Be sure to tune in and watch Donald Trump on L...</td>\n",
              "      <td>500</td>\n",
              "      <td>868</td>\n",
              "      <td>None</td>\n",
              "      <td>None</td>\n",
              "      <td>None</td>\n",
              "      <td>None</td>\n",
              "      <td>0.0</td>\n",
              "      <td>20:54:25</td>\n",
              "      <td>2009</td>\n",
              "    </tr>\n",
              "    <tr>\n",
              "      <th>2009-05-05 03:00:10</th>\n",
              "      <td>Donald Trump will be appearing on The View tom...</td>\n",
              "      <td>33</td>\n",
              "      <td>273</td>\n",
              "      <td>None</td>\n",
              "      <td>None</td>\n",
              "      <td>None</td>\n",
              "      <td>None</td>\n",
              "      <td>0.0</td>\n",
              "      <td>03:00:10</td>\n",
              "      <td>2009</td>\n",
              "    </tr>\n",
              "    <tr>\n",
              "      <th>2009-05-08 15:38:08</th>\n",
              "      <td>Donald Trump reads Top Ten Financial Tips on L...</td>\n",
              "      <td>12</td>\n",
              "      <td>18</td>\n",
              "      <td>None</td>\n",
              "      <td>None</td>\n",
              "      <td>None</td>\n",
              "      <td>None</td>\n",
              "      <td>0.0</td>\n",
              "      <td>15:38:08</td>\n",
              "      <td>2009</td>\n",
              "    </tr>\n",
              "    <tr>\n",
              "      <th>2009-05-08 22:40:15</th>\n",
              "      <td>New Blog Post: Celebrity Apprentice Finale and...</td>\n",
              "      <td>11</td>\n",
              "      <td>24</td>\n",
              "      <td>None</td>\n",
              "      <td>None</td>\n",
              "      <td>None</td>\n",
              "      <td>None</td>\n",
              "      <td>0.0</td>\n",
              "      <td>22:40:15</td>\n",
              "      <td>2009</td>\n",
              "    </tr>\n",
              "    <tr>\n",
              "      <th>2009-05-12 16:07:28</th>\n",
              "      <td>\"My persona will never be that of a wallflower...</td>\n",
              "      <td>1399</td>\n",
              "      <td>1965</td>\n",
              "      <td>None</td>\n",
              "      <td>None</td>\n",
              "      <td>None</td>\n",
              "      <td>None</td>\n",
              "      <td>0.0</td>\n",
              "      <td>16:07:28</td>\n",
              "      <td>2009</td>\n",
              "    </tr>\n",
              "  </tbody>\n",
              "</table>\n",
              "</div>"
            ],
            "text/plain": [
              "                                                               content  ...  year\n",
              "date                                                                    ...      \n",
              "2009-05-04 20:54:25  Be sure to tune in and watch Donald Trump on L...  ...  2009\n",
              "2009-05-05 03:00:10  Donald Trump will be appearing on The View tom...  ...  2009\n",
              "2009-05-08 15:38:08  Donald Trump reads Top Ten Financial Tips on L...  ...  2009\n",
              "2009-05-08 22:40:15  New Blog Post: Celebrity Apprentice Finale and...  ...  2009\n",
              "2009-05-12 16:07:28  \"My persona will never be that of a wallflower...  ...  2009\n",
              "\n",
              "[5 rows x 10 columns]"
            ]
          },
          "metadata": {
            "tags": []
          },
          "execution_count": 2
        }
      ]
    },
    {
      "cell_type": "code",
      "metadata": {
        "colab": {
          "base_uri": "https://localhost:8080/",
          "height": 253
        },
        "id": "hGwBn16g8mea",
        "outputId": "ca40bd11-b97c-4548-8bfa-612e1ea658ba"
      },
      "source": [
        "#reading in dataset of word counts\n",
        "df_years = pd.read_csv(\"https://github.com/ewilli400/trump/blob/main/years%20(1).csv?raw=true\")\n",
        "df_years.index = df_years.index + 2009\n",
        "df_years.head()"
      ],
      "execution_count": 3,
      "outputs": [
        {
          "output_type": "execute_result",
          "data": {
            "text/html": [
              "<div>\n",
              "<style scoped>\n",
              "    .dataframe tbody tr th:only-of-type {\n",
              "        vertical-align: middle;\n",
              "    }\n",
              "\n",
              "    .dataframe tbody tr th {\n",
              "        vertical-align: top;\n",
              "    }\n",
              "\n",
              "    .dataframe thead th {\n",
              "        text-align: right;\n",
              "    }\n",
              "</style>\n",
              "<table border=\"1\" class=\"dataframe\">\n",
              "  <thead>\n",
              "    <tr style=\"text-align: right;\">\n",
              "      <th></th>\n",
              "      <th>about</th>\n",
              "      <th>advice</th>\n",
              "      <th>all</th>\n",
              "      <th>along</th>\n",
              "      <th>an</th>\n",
              "      <th>and</th>\n",
              "      <th>are</th>\n",
              "      <th>as</th>\n",
              "      <th>at</th>\n",
              "      <th>be</th>\n",
              "      <th>beautiful</th>\n",
              "      <th>been</th>\n",
              "      <th>being</th>\n",
              "      <th>best</th>\n",
              "      <th>big</th>\n",
              "      <th>bit</th>\n",
              "      <th>book</th>\n",
              "      <th>business</th>\n",
              "      <th>but</th>\n",
              "      <th>by</th>\n",
              "      <th>call</th>\n",
              "      <th>can</th>\n",
              "      <th>check</th>\n",
              "      <th>com</th>\n",
              "      <th>could</th>\n",
              "      <th>day</th>\n",
              "      <th>days</th>\n",
              "      <th>did</th>\n",
              "      <th>donald</th>\n",
              "      <th>every</th>\n",
              "      <th>everyone</th>\n",
              "      <th>first</th>\n",
              "      <th>for</th>\n",
              "      <th>forget</th>\n",
              "      <th>forward</th>\n",
              "      <th>free</th>\n",
              "      <th>from</th>\n",
              "      <th>great</th>\n",
              "      <th>happy</th>\n",
              "      <th>has</th>\n",
              "      <th>...</th>\n",
              "      <th>or</th>\n",
              "      <th>our</th>\n",
              "      <th>out</th>\n",
              "      <th>people</th>\n",
              "      <th>read</th>\n",
              "      <th>say</th>\n",
              "      <th>show</th>\n",
              "      <th>that</th>\n",
              "      <th>the</th>\n",
              "      <th>them</th>\n",
              "      <th>there</th>\n",
              "      <th>they</th>\n",
              "      <th>think</th>\n",
              "      <th>to</th>\n",
              "      <th>today</th>\n",
              "      <th>tomorrow</th>\n",
              "      <th>tonight</th>\n",
              "      <th>top</th>\n",
              "      <th>trump</th>\n",
              "      <th>twitter</th>\n",
              "      <th>usa</th>\n",
              "      <th>ve</th>\n",
              "      <th>very</th>\n",
              "      <th>was</th>\n",
              "      <th>watch</th>\n",
              "      <th>way</th>\n",
              "      <th>we</th>\n",
              "      <th>what</th>\n",
              "      <th>who</th>\n",
              "      <th>will</th>\n",
              "      <th>win</th>\n",
              "      <th>with</th>\n",
              "      <th>wonderful</th>\n",
              "      <th>work</th>\n",
              "      <th>world</th>\n",
              "      <th>www</th>\n",
              "      <th>year</th>\n",
              "      <th>york</th>\n",
              "      <th>you</th>\n",
              "      <th>your</th>\n",
              "    </tr>\n",
              "  </thead>\n",
              "  <tbody>\n",
              "    <tr>\n",
              "      <th>2009</th>\n",
              "      <td>2</td>\n",
              "      <td>1</td>\n",
              "      <td>5</td>\n",
              "      <td>2</td>\n",
              "      <td>2</td>\n",
              "      <td>20</td>\n",
              "      <td>1</td>\n",
              "      <td>1</td>\n",
              "      <td>2</td>\n",
              "      <td>9</td>\n",
              "      <td>1</td>\n",
              "      <td>1</td>\n",
              "      <td>2</td>\n",
              "      <td>1</td>\n",
              "      <td>3</td>\n",
              "      <td>3</td>\n",
              "      <td>7</td>\n",
              "      <td>3</td>\n",
              "      <td>1</td>\n",
              "      <td>3</td>\n",
              "      <td>1</td>\n",
              "      <td>3</td>\n",
              "      <td>3</td>\n",
              "      <td>42</td>\n",
              "      <td>2</td>\n",
              "      <td>4</td>\n",
              "      <td>1</td>\n",
              "      <td>1</td>\n",
              "      <td>42</td>\n",
              "      <td>1</td>\n",
              "      <td>1</td>\n",
              "      <td>2</td>\n",
              "      <td>7</td>\n",
              "      <td>1</td>\n",
              "      <td>1</td>\n",
              "      <td>1</td>\n",
              "      <td>6</td>\n",
              "      <td>3</td>\n",
              "      <td>4</td>\n",
              "      <td>2</td>\n",
              "      <td>...</td>\n",
              "      <td>1</td>\n",
              "      <td>1</td>\n",
              "      <td>4</td>\n",
              "      <td>1</td>\n",
              "      <td>4</td>\n",
              "      <td>1</td>\n",
              "      <td>2</td>\n",
              "      <td>4</td>\n",
              "      <td>28</td>\n",
              "      <td>1</td>\n",
              "      <td>1</td>\n",
              "      <td>2</td>\n",
              "      <td>9</td>\n",
              "      <td>19</td>\n",
              "      <td>3</td>\n",
              "      <td>1</td>\n",
              "      <td>2</td>\n",
              "      <td>3</td>\n",
              "      <td>48</td>\n",
              "      <td>1</td>\n",
              "      <td>1</td>\n",
              "      <td>1</td>\n",
              "      <td>3</td>\n",
              "      <td>3</td>\n",
              "      <td>5</td>\n",
              "      <td>1</td>\n",
              "      <td>2</td>\n",
              "      <td>1</td>\n",
              "      <td>1</td>\n",
              "      <td>4</td>\n",
              "      <td>1</td>\n",
              "      <td>10</td>\n",
              "      <td>1</td>\n",
              "      <td>1</td>\n",
              "      <td>3</td>\n",
              "      <td>7</td>\n",
              "      <td>1</td>\n",
              "      <td>1</td>\n",
              "      <td>10</td>\n",
              "      <td>10</td>\n",
              "    </tr>\n",
              "    <tr>\n",
              "      <th>2010</th>\n",
              "      <td>4</td>\n",
              "      <td>1</td>\n",
              "      <td>9</td>\n",
              "      <td>2</td>\n",
              "      <td>7</td>\n",
              "      <td>66</td>\n",
              "      <td>3</td>\n",
              "      <td>5</td>\n",
              "      <td>39</td>\n",
              "      <td>47</td>\n",
              "      <td>8</td>\n",
              "      <td>3</td>\n",
              "      <td>3</td>\n",
              "      <td>9</td>\n",
              "      <td>1</td>\n",
              "      <td>20</td>\n",
              "      <td>1</td>\n",
              "      <td>1</td>\n",
              "      <td>2</td>\n",
              "      <td>7</td>\n",
              "      <td>3</td>\n",
              "      <td>1</td>\n",
              "      <td>7</td>\n",
              "      <td>31</td>\n",
              "      <td>2</td>\n",
              "      <td>6</td>\n",
              "      <td>1</td>\n",
              "      <td>1</td>\n",
              "      <td>10</td>\n",
              "      <td>3</td>\n",
              "      <td>9</td>\n",
              "      <td>1</td>\n",
              "      <td>50</td>\n",
              "      <td>8</td>\n",
              "      <td>6</td>\n",
              "      <td>1</td>\n",
              "      <td>14</td>\n",
              "      <td>29</td>\n",
              "      <td>8</td>\n",
              "      <td>4</td>\n",
              "      <td>...</td>\n",
              "      <td>1</td>\n",
              "      <td>9</td>\n",
              "      <td>9</td>\n",
              "      <td>1</td>\n",
              "      <td>2</td>\n",
              "      <td>1</td>\n",
              "      <td>14</td>\n",
              "      <td>4</td>\n",
              "      <td>148</td>\n",
              "      <td>2</td>\n",
              "      <td>6</td>\n",
              "      <td>2</td>\n",
              "      <td>1</td>\n",
              "      <td>77</td>\n",
              "      <td>6</td>\n",
              "      <td>8</td>\n",
              "      <td>24</td>\n",
              "      <td>1</td>\n",
              "      <td>49</td>\n",
              "      <td>2</td>\n",
              "      <td>8</td>\n",
              "      <td>3</td>\n",
              "      <td>6</td>\n",
              "      <td>12</td>\n",
              "      <td>6</td>\n",
              "      <td>3</td>\n",
              "      <td>13</td>\n",
              "      <td>2</td>\n",
              "      <td>5</td>\n",
              "      <td>22</td>\n",
              "      <td>5</td>\n",
              "      <td>22</td>\n",
              "      <td>2</td>\n",
              "      <td>3</td>\n",
              "      <td>6</td>\n",
              "      <td>23</td>\n",
              "      <td>2</td>\n",
              "      <td>7</td>\n",
              "      <td>7</td>\n",
              "      <td>6</td>\n",
              "    </tr>\n",
              "    <tr>\n",
              "      <th>2011</th>\n",
              "      <td>36</td>\n",
              "      <td>2</td>\n",
              "      <td>34</td>\n",
              "      <td>1</td>\n",
              "      <td>23</td>\n",
              "      <td>289</td>\n",
              "      <td>64</td>\n",
              "      <td>31</td>\n",
              "      <td>115</td>\n",
              "      <td>131</td>\n",
              "      <td>4</td>\n",
              "      <td>11</td>\n",
              "      <td>8</td>\n",
              "      <td>18</td>\n",
              "      <td>7</td>\n",
              "      <td>203</td>\n",
              "      <td>45</td>\n",
              "      <td>7</td>\n",
              "      <td>15</td>\n",
              "      <td>38</td>\n",
              "      <td>3</td>\n",
              "      <td>37</td>\n",
              "      <td>14</td>\n",
              "      <td>28</td>\n",
              "      <td>5</td>\n",
              "      <td>11</td>\n",
              "      <td>1</td>\n",
              "      <td>13</td>\n",
              "      <td>15</td>\n",
              "      <td>5</td>\n",
              "      <td>8</td>\n",
              "      <td>21</td>\n",
              "      <td>124</td>\n",
              "      <td>11</td>\n",
              "      <td>6</td>\n",
              "      <td>3</td>\n",
              "      <td>66</td>\n",
              "      <td>56</td>\n",
              "      <td>10</td>\n",
              "      <td>65</td>\n",
              "      <td>...</td>\n",
              "      <td>20</td>\n",
              "      <td>113</td>\n",
              "      <td>37</td>\n",
              "      <td>26</td>\n",
              "      <td>12</td>\n",
              "      <td>5</td>\n",
              "      <td>23</td>\n",
              "      <td>75</td>\n",
              "      <td>672</td>\n",
              "      <td>10</td>\n",
              "      <td>20</td>\n",
              "      <td>42</td>\n",
              "      <td>10</td>\n",
              "      <td>376</td>\n",
              "      <td>57</td>\n",
              "      <td>10</td>\n",
              "      <td>37</td>\n",
              "      <td>1</td>\n",
              "      <td>68</td>\n",
              "      <td>3</td>\n",
              "      <td>6</td>\n",
              "      <td>5</td>\n",
              "      <td>19</td>\n",
              "      <td>39</td>\n",
              "      <td>52</td>\n",
              "      <td>11</td>\n",
              "      <td>117</td>\n",
              "      <td>24</td>\n",
              "      <td>26</td>\n",
              "      <td>95</td>\n",
              "      <td>4</td>\n",
              "      <td>129</td>\n",
              "      <td>3</td>\n",
              "      <td>11</td>\n",
              "      <td>27</td>\n",
              "      <td>8</td>\n",
              "      <td>14</td>\n",
              "      <td>1</td>\n",
              "      <td>60</td>\n",
              "      <td>44</td>\n",
              "    </tr>\n",
              "    <tr>\n",
              "      <th>2012</th>\n",
              "      <td>176</td>\n",
              "      <td>5</td>\n",
              "      <td>223</td>\n",
              "      <td>8</td>\n",
              "      <td>172</td>\n",
              "      <td>993</td>\n",
              "      <td>422</td>\n",
              "      <td>185</td>\n",
              "      <td>356</td>\n",
              "      <td>636</td>\n",
              "      <td>27</td>\n",
              "      <td>78</td>\n",
              "      <td>69</td>\n",
              "      <td>78</td>\n",
              "      <td>91</td>\n",
              "      <td>622</td>\n",
              "      <td>22</td>\n",
              "      <td>44</td>\n",
              "      <td>151</td>\n",
              "      <td>230</td>\n",
              "      <td>18</td>\n",
              "      <td>233</td>\n",
              "      <td>11</td>\n",
              "      <td>70</td>\n",
              "      <td>56</td>\n",
              "      <td>44</td>\n",
              "      <td>24</td>\n",
              "      <td>85</td>\n",
              "      <td>79</td>\n",
              "      <td>45</td>\n",
              "      <td>32</td>\n",
              "      <td>59</td>\n",
              "      <td>690</td>\n",
              "      <td>5</td>\n",
              "      <td>27</td>\n",
              "      <td>22</td>\n",
              "      <td>220</td>\n",
              "      <td>413</td>\n",
              "      <td>45</td>\n",
              "      <td>303</td>\n",
              "      <td>...</td>\n",
              "      <td>87</td>\n",
              "      <td>281</td>\n",
              "      <td>145</td>\n",
              "      <td>139</td>\n",
              "      <td>30</td>\n",
              "      <td>38</td>\n",
              "      <td>84</td>\n",
              "      <td>442</td>\n",
              "      <td>2841</td>\n",
              "      <td>64</td>\n",
              "      <td>77</td>\n",
              "      <td>274</td>\n",
              "      <td>75</td>\n",
              "      <td>1722</td>\n",
              "      <td>111</td>\n",
              "      <td>53</td>\n",
              "      <td>77</td>\n",
              "      <td>30</td>\n",
              "      <td>277</td>\n",
              "      <td>22</td>\n",
              "      <td>22</td>\n",
              "      <td>26</td>\n",
              "      <td>146</td>\n",
              "      <td>269</td>\n",
              "      <td>79</td>\n",
              "      <td>41</td>\n",
              "      <td>324</td>\n",
              "      <td>178</td>\n",
              "      <td>172</td>\n",
              "      <td>489</td>\n",
              "      <td>73</td>\n",
              "      <td>402</td>\n",
              "      <td>28</td>\n",
              "      <td>76</td>\n",
              "      <td>74</td>\n",
              "      <td>34</td>\n",
              "      <td>78</td>\n",
              "      <td>32</td>\n",
              "      <td>512</td>\n",
              "      <td>134</td>\n",
              "    </tr>\n",
              "    <tr>\n",
              "      <th>2013</th>\n",
              "      <td>262</td>\n",
              "      <td>28</td>\n",
              "      <td>484</td>\n",
              "      <td>8</td>\n",
              "      <td>214</td>\n",
              "      <td>1846</td>\n",
              "      <td>780</td>\n",
              "      <td>317</td>\n",
              "      <td>604</td>\n",
              "      <td>1054</td>\n",
              "      <td>62</td>\n",
              "      <td>117</td>\n",
              "      <td>157</td>\n",
              "      <td>236</td>\n",
              "      <td>245</td>\n",
              "      <td>520</td>\n",
              "      <td>46</td>\n",
              "      <td>127</td>\n",
              "      <td>387</td>\n",
              "      <td>316</td>\n",
              "      <td>29</td>\n",
              "      <td>388</td>\n",
              "      <td>32</td>\n",
              "      <td>185</td>\n",
              "      <td>94</td>\n",
              "      <td>130</td>\n",
              "      <td>20</td>\n",
              "      <td>131</td>\n",
              "      <td>331</td>\n",
              "      <td>70</td>\n",
              "      <td>76</td>\n",
              "      <td>93</td>\n",
              "      <td>1239</td>\n",
              "      <td>16</td>\n",
              "      <td>63</td>\n",
              "      <td>23</td>\n",
              "      <td>261</td>\n",
              "      <td>1005</td>\n",
              "      <td>115</td>\n",
              "      <td>336</td>\n",
              "      <td>...</td>\n",
              "      <td>198</td>\n",
              "      <td>346</td>\n",
              "      <td>211</td>\n",
              "      <td>346</td>\n",
              "      <td>73</td>\n",
              "      <td>100</td>\n",
              "      <td>183</td>\n",
              "      <td>798</td>\n",
              "      <td>3876</td>\n",
              "      <td>156</td>\n",
              "      <td>159</td>\n",
              "      <td>415</td>\n",
              "      <td>341</td>\n",
              "      <td>2514</td>\n",
              "      <td>133</td>\n",
              "      <td>43</td>\n",
              "      <td>118</td>\n",
              "      <td>69</td>\n",
              "      <td>850</td>\n",
              "      <td>116</td>\n",
              "      <td>48</td>\n",
              "      <td>64</td>\n",
              "      <td>328</td>\n",
              "      <td>382</td>\n",
              "      <td>98</td>\n",
              "      <td>115</td>\n",
              "      <td>425</td>\n",
              "      <td>436</td>\n",
              "      <td>267</td>\n",
              "      <td>807</td>\n",
              "      <td>84</td>\n",
              "      <td>574</td>\n",
              "      <td>38</td>\n",
              "      <td>191</td>\n",
              "      <td>137</td>\n",
              "      <td>33</td>\n",
              "      <td>91</td>\n",
              "      <td>64</td>\n",
              "      <td>2394</td>\n",
              "      <td>662</td>\n",
              "    </tr>\n",
              "  </tbody>\n",
              "</table>\n",
              "<p>5 rows × 111 columns</p>\n",
              "</div>"
            ],
            "text/plain": [
              "      about  advice  all  along   an   and  ...  world  www  year  york   you  your\n",
              "2009      2       1    5      2    2    20  ...      3    7     1     1    10    10\n",
              "2010      4       1    9      2    7    66  ...      6   23     2     7     7     6\n",
              "2011     36       2   34      1   23   289  ...     27    8    14     1    60    44\n",
              "2012    176       5  223      8  172   993  ...     74   34    78    32   512   134\n",
              "2013    262      28  484      8  214  1846  ...    137   33    91    64  2394   662\n",
              "\n",
              "[5 rows x 111 columns]"
            ]
          },
          "metadata": {
            "tags": []
          },
          "execution_count": 3
        }
      ]
    },
    {
      "cell_type": "code",
      "metadata": {
        "colab": {
          "base_uri": "https://localhost:8080/",
          "height": 376
        },
        "id": "lAh-zJQA1UuD",
        "outputId": "cca23cff-1c4d-464f-ee5c-5bd50f132b8d"
      },
      "source": [
        "#Did the amount of criticism tweets change over time?\n",
        "bar_df = trump_tweets.resample(\"Y\")[\"indicator\"].sum()[6:]\n",
        "bar_df.index = [\"2015\", \"2016\", \"2017\", \"2018\", \"2019\", \"2020\"]\n",
        "\n",
        "import altair as alt\n",
        "import pandas as pd\n",
        "\n",
        "source = pd.DataFrame({\n",
        "    'Year': bar_df.index,\n",
        "    'Frequency': bar_df\n",
        "})\n",
        "\n",
        "alt.Chart(source).mark_bar().encode(\n",
        "    x='Year',\n",
        "    y='Frequency',\n",
        "    color=alt.Color('Year', legend=None)\n",
        ")"
      ],
      "execution_count": 4,
      "outputs": [
        {
          "output_type": "execute_result",
          "data": {
            "text/plain": [
              "alt.Chart(...)"
            ],
            "text/html": [
              "\n",
              "<div id=\"altair-viz-a803ccb013214ccd994609a7cde0534d\"></div>\n",
              "<script type=\"text/javascript\">\n",
              "  (function(spec, embedOpt){\n",
              "    let outputDiv = document.currentScript.previousElementSibling;\n",
              "    if (outputDiv.id !== \"altair-viz-a803ccb013214ccd994609a7cde0534d\") {\n",
              "      outputDiv = document.getElementById(\"altair-viz-a803ccb013214ccd994609a7cde0534d\");\n",
              "    }\n",
              "    const paths = {\n",
              "      \"vega\": \"https://cdn.jsdelivr.net/npm//vega@5?noext\",\n",
              "      \"vega-lib\": \"https://cdn.jsdelivr.net/npm//vega-lib?noext\",\n",
              "      \"vega-lite\": \"https://cdn.jsdelivr.net/npm//vega-lite@4.8.1?noext\",\n",
              "      \"vega-embed\": \"https://cdn.jsdelivr.net/npm//vega-embed@6?noext\",\n",
              "    };\n",
              "\n",
              "    function loadScript(lib) {\n",
              "      return new Promise(function(resolve, reject) {\n",
              "        var s = document.createElement('script');\n",
              "        s.src = paths[lib];\n",
              "        s.async = true;\n",
              "        s.onload = () => resolve(paths[lib]);\n",
              "        s.onerror = () => reject(`Error loading script: ${paths[lib]}`);\n",
              "        document.getElementsByTagName(\"head\")[0].appendChild(s);\n",
              "      });\n",
              "    }\n",
              "\n",
              "    function showError(err) {\n",
              "      outputDiv.innerHTML = `<div class=\"error\" style=\"color:red;\">${err}</div>`;\n",
              "      throw err;\n",
              "    }\n",
              "\n",
              "    function displayChart(vegaEmbed) {\n",
              "      vegaEmbed(outputDiv, spec, embedOpt)\n",
              "        .catch(err => showError(`Javascript Error: ${err.message}<br>This usually means there's a typo in your chart specification. See the javascript console for the full traceback.`));\n",
              "    }\n",
              "\n",
              "    if(typeof define === \"function\" && define.amd) {\n",
              "      requirejs.config({paths});\n",
              "      require([\"vega-embed\"], displayChart, err => showError(`Error loading script: ${err.message}`));\n",
              "    } else if (typeof vegaEmbed === \"function\") {\n",
              "      displayChart(vegaEmbed);\n",
              "    } else {\n",
              "      loadScript(\"vega\")\n",
              "        .then(() => loadScript(\"vega-lite\"))\n",
              "        .then(() => loadScript(\"vega-embed\"))\n",
              "        .catch(showError)\n",
              "        .then(() => displayChart(vegaEmbed));\n",
              "    }\n",
              "  })({\"config\": {\"view\": {\"continuousWidth\": 400, \"continuousHeight\": 300}}, \"data\": {\"name\": \"data-4912765cfb2db65d9cd9cc1ef8c28caa\"}, \"mark\": \"bar\", \"encoding\": {\"color\": {\"type\": \"nominal\", \"field\": \"Year\", \"legend\": null}, \"x\": {\"type\": \"nominal\", \"field\": \"Year\"}, \"y\": {\"type\": \"quantitative\", \"field\": \"Frequency\"}}, \"$schema\": \"https://vega.github.io/schema/vega-lite/v4.8.1.json\", \"datasets\": {\"data-4912765cfb2db65d9cd9cc1ef8c28caa\": [{\"Year\": \"2015\", \"Frequency\": 174.0}, {\"Year\": \"2016\", \"Frequency\": 526.0}, {\"Year\": \"2017\", \"Frequency\": 465.0}, {\"Year\": \"2018\", \"Frequency\": 581.0}, {\"Year\": \"2019\", \"Frequency\": 650.0}, {\"Year\": \"2020\", \"Frequency\": 30.0}]}}, {\"mode\": \"vega-lite\"});\n",
              "</script>"
            ]
          },
          "metadata": {
            "tags": []
          },
          "execution_count": 4
        }
      ]
    },
    {
      "cell_type": "code",
      "metadata": {
        "colab": {
          "base_uri": "https://localhost:8080/",
          "height": 312
        },
        "id": "vNK3mUdm_urI",
        "outputId": "98b2e7c8-7686-43a5-9cdc-e3a94aa5a2ff"
      },
      "source": [
        "#How did the proportion of criticism tweets to all tweets change per year?\n",
        "plotdata = pd.DataFrame((trump_tweets.resample(\"Y\")[\"indicator\"].sum()/trump_tweets.resample(\"Y\").count()[\"content\"])[6:], columns=[\"insult\"])\n",
        "plotdata[\"criticism\"] = plotdata[\"insult\"]\n",
        "plotdata[\"non-criticism\"] = 1 - trump_tweets.resample(\"Y\")[\"indicator\"].sum()/trump_tweets.resample(\"Y\").count()[\"content\"]\n",
        "plotdata = plotdata.drop(columns=[\"insult\"])\n",
        "\n",
        "import matplotlib.pyplot as plt\n",
        "\n",
        "stacked_data = plotdata.apply(lambda x: x*100/sum(x), axis=1)\n",
        "stacked_data.index = [\"2015\", \"2016\", \"2017\", \"2018\", \"2019\", \"2020\"]\n",
        "stacked_data.plot(kind=\"bar\", stacked=True)\n",
        "plt.xlabel(\"Year\")\n",
        "plt.ylabel(\"Percentage of Tweets Per Year\")"
      ],
      "execution_count": 5,
      "outputs": [
        {
          "output_type": "execute_result",
          "data": {
            "text/plain": [
              "Text(0, 0.5, 'Percentage of Tweets Per Year')"
            ]
          },
          "metadata": {
            "tags": []
          },
          "execution_count": 5
        },
        {
          "output_type": "display_data",
          "data": {
            "image/png": "[encoded data removed]",
            "text/plain": [
              "<Figure size 432x288 with 1 Axes>"
            ]
          },
          "metadata": {
            "tags": [],
            "needs_background": "light"
          }
        }
      ]
    },
    {
      "cell_type": "code",
      "metadata": {
        "colab": {
          "base_uri": "https://localhost:8080/",
          "height": 266
        },
        "id": "ujStkvLgwgsP",
        "outputId": "d672f2a5-ea97-4cc2-b38d-e8f293983b1b"
      },
      "source": [
        "#Tabular representation of proportion of criticism and non-criticism tweets.\n",
        "plotdata"
      ],
      "execution_count": 6,
      "outputs": [
        {
          "output_type": "execute_result",
          "data": {
            "text/html": [
              "<div>\n",
              "<style scoped>\n",
              "    .dataframe tbody tr th:only-of-type {\n",
              "        vertical-align: middle;\n",
              "    }\n",
              "\n",
              "    .dataframe tbody tr th {\n",
              "        vertical-align: top;\n",
              "    }\n",
              "\n",
              "    .dataframe thead th {\n",
              "        text-align: right;\n",
              "    }\n",
              "</style>\n",
              "<table border=\"1\" class=\"dataframe\">\n",
              "  <thead>\n",
              "    <tr style=\"text-align: right;\">\n",
              "      <th></th>\n",
              "      <th>criticism</th>\n",
              "      <th>non-criticism</th>\n",
              "    </tr>\n",
              "    <tr>\n",
              "      <th>date</th>\n",
              "      <th></th>\n",
              "      <th></th>\n",
              "    </tr>\n",
              "  </thead>\n",
              "  <tbody>\n",
              "    <tr>\n",
              "      <th>2015-12-31</th>\n",
              "      <td>0.022542</td>\n",
              "      <td>0.977458</td>\n",
              "    </tr>\n",
              "    <tr>\n",
              "      <th>2016-12-31</th>\n",
              "      <td>0.133131</td>\n",
              "      <td>0.866869</td>\n",
              "    </tr>\n",
              "    <tr>\n",
              "      <th>2017-12-31</th>\n",
              "      <td>0.208333</td>\n",
              "      <td>0.791667</td>\n",
              "    </tr>\n",
              "    <tr>\n",
              "      <th>2018-12-31</th>\n",
              "      <td>0.193796</td>\n",
              "      <td>0.806204</td>\n",
              "    </tr>\n",
              "    <tr>\n",
              "      <th>2019-12-31</th>\n",
              "      <td>0.141674</td>\n",
              "      <td>0.858326</td>\n",
              "    </tr>\n",
              "    <tr>\n",
              "      <th>2020-12-31</th>\n",
              "      <td>0.165746</td>\n",
              "      <td>0.834254</td>\n",
              "    </tr>\n",
              "  </tbody>\n",
              "</table>\n",
              "</div>"
            ],
            "text/plain": [
              "            criticism  non-criticism\n",
              "date                                \n",
              "2015-12-31   0.022542       0.977458\n",
              "2016-12-31   0.133131       0.866869\n",
              "2017-12-31   0.208333       0.791667\n",
              "2018-12-31   0.193796       0.806204\n",
              "2019-12-31   0.141674       0.858326\n",
              "2020-12-31   0.165746       0.834254"
            ]
          },
          "metadata": {
            "tags": []
          },
          "execution_count": 6
        }
      ]
    },
    {
      "cell_type": "code",
      "metadata": {
        "colab": {
          "base_uri": "https://localhost:8080/"
        },
        "id": "es2YJlFG2vcX",
        "outputId": "f6dcd56b-8eaf-4778-f38a-6b12f1176653"
      },
      "source": [
        "#Who did trump target most in his tweets?\n",
        "trump_tweets[\"target\"].value_counts()[1:11]"
      ],
      "execution_count": 7,
      "outputs": [
        {
          "output_type": "execute_result",
          "data": {
            "text/plain": [
              "the-media              286\n",
              "hillary-clinton        228\n",
              "democrats              187\n",
              "trump-russia           112\n",
              "impeachment-inquiry     80\n",
              "adam-schiff             58\n",
              "ted-cruz                54\n",
              "mueller-team            50\n",
              "the-new-york-times      35\n",
              "obamacare               35\n",
              "Name: target, dtype: int64"
            ]
          },
          "metadata": {
            "tags": []
          },
          "execution_count": 7
        }
      ]
    },
    {
      "cell_type": "code",
      "metadata": {
        "colab": {
          "base_uri": "https://localhost:8080/",
          "height": 425
        },
        "id": "eX1ZXMZpucKO",
        "outputId": "c327ad31-1bb1-4c0e-d873-4809cf4e64cc"
      },
      "source": [
        "#How did Trump's total amount of tweets change over time?\n",
        "bar_df = trump_tweets.resample(\"6m\").count()[\"content\"]\n",
        "bar_df.index = [\"2009 / 1st half\", \"2009 / 2nd half\", \n",
        "          \"2010 / 1st half\", \"2010 / 2nd half\",\n",
        "          \"2011 / 1st half\", \"2011 / 2nd half\",\n",
        "          \"2012 / 1st half\", \"2012 / 2nd half\",\n",
        "          \"2013 / 1st half\", \"2013 / 2nd half\",\n",
        "          \"2014 / 1st half\", \"2014 / 2nd half\",\n",
        "          \"2015 / 1st half\", \"2015 / 2nd half\",\n",
        "          \"2016 / 1st half\", \"2016 / 2nd half\",\n",
        "          \"2017 / 1st half\", \"2017 / 2nd half\",\n",
        "          \"2018 / 1st half\", \"2018 / 2nd half\",\n",
        "          \"2019 / 1st half\", \"2019 / 2nd half\",\n",
        "          \"2020 / 1st half\"]\n",
        "\n",
        "source = pd.DataFrame({\n",
        "    'Year': bar_df.index,\n",
        "    'Frequency': bar_df\n",
        "})\n",
        "\n",
        "alt.Chart(source).mark_bar().encode(\n",
        "    x='Year',\n",
        "    y='Frequency',\n",
        "    color=alt.Color('Frequency')\n",
        ")"
      ],
      "execution_count": 8,
      "outputs": [
        {
          "output_type": "execute_result",
          "data": {
            "text/plain": [
              "alt.Chart(...)"
            ],
            "text/html": [
              "\n",
              "<div id=\"altair-viz-28614674c2d5420d92e23ce21f039d08\"></div>\n",
              "<script type=\"text/javascript\">\n",
              "  (function(spec, embedOpt){\n",
              "    let outputDiv = document.currentScript.previousElementSibling;\n",
              "    if (outputDiv.id !== \"altair-viz-28614674c2d5420d92e23ce21f039d08\") {\n",
              "      outputDiv = document.getElementById(\"altair-viz-28614674c2d5420d92e23ce21f039d08\");\n",
              "    }\n",
              "    const paths = {\n",
              "      \"vega\": \"https://cdn.jsdelivr.net/npm//vega@5?noext\",\n",
              "      \"vega-lib\": \"https://cdn.jsdelivr.net/npm//vega-lib?noext\",\n",
              "      \"vega-lite\": \"https://cdn.jsdelivr.net/npm//vega-lite@4.8.1?noext\",\n",
              "      \"vega-embed\": \"https://cdn.jsdelivr.net/npm//vega-embed@6?noext\",\n",
              "    };\n",
              "\n",
              "    function loadScript(lib) {\n",
              "      return new Promise(function(resolve, reject) {\n",
              "        var s = document.createElement('script');\n",
              "        s.src = paths[lib];\n",
              "        s.async = true;\n",
              "        s.onload = () => resolve(paths[lib]);\n",
              "        s.onerror = () => reject(`Error loading script: ${paths[lib]}`);\n",
              "        document.getElementsByTagName(\"head\")[0].appendChild(s);\n",
              "      });\n",
              "    }\n",
              "\n",
              "    function showError(err) {\n",
              "      outputDiv.innerHTML = `<div class=\"error\" style=\"color:red;\">${err}</div>`;\n",
              "      throw err;\n",
              "    }\n",
              "\n",
              "    function displayChart(vegaEmbed) {\n",
              "      vegaEmbed(outputDiv, spec, embedOpt)\n",
              "        .catch(err => showError(`Javascript Error: ${err.message}<br>This usually means there's a typo in your chart specification. See the javascript console for the full traceback.`));\n",
              "    }\n",
              "\n",
              "    if(typeof define === \"function\" && define.amd) {\n",
              "      requirejs.config({paths});\n",
              "      require([\"vega-embed\"], displayChart, err => showError(`Error loading script: ${err.message}`));\n",
              "    } else if (typeof vegaEmbed === \"function\") {\n",
              "      displayChart(vegaEmbed);\n",
              "    } else {\n",
              "      loadScript(\"vega\")\n",
              "        .then(() => loadScript(\"vega-lite\"))\n",
              "        .then(() => loadScript(\"vega-embed\"))\n",
              "        .catch(showError)\n",
              "        .then(() => displayChart(vegaEmbed));\n",
              "    }\n",
              "  })({\"config\": {\"view\": {\"continuousWidth\": 400, \"continuousHeight\": 300}}, \"data\": {\"name\": \"data-49b75bca83226ddf9dd0d5578837570c\"}, \"mark\": \"bar\", \"encoding\": {\"color\": {\"type\": \"quantitative\", \"field\": \"Frequency\"}, \"x\": {\"type\": \"nominal\", \"field\": \"Year\"}, \"y\": {\"type\": \"quantitative\", \"field\": \"Frequency\"}}, \"$schema\": \"https://vega.github.io/schema/vega-lite/v4.8.1.json\", \"datasets\": {\"data-49b75bca83226ddf9dd0d5578837570c\": [{\"Year\": \"2009 / 1st half\", \"Frequency\": 21}, {\"Year\": \"2009 / 2nd half\", \"Frequency\": 33}, {\"Year\": \"2010 / 1st half\", \"Frequency\": 55}, {\"Year\": \"2010 / 2nd half\", \"Frequency\": 80}, {\"Year\": \"2011 / 1st half\", \"Frequency\": 117}, {\"Year\": \"2011 / 2nd half\", \"Frequency\": 540}, {\"Year\": \"2012 / 1st half\", \"Frequency\": 1346}, {\"Year\": \"2012 / 2nd half\", \"Frequency\": 2615}, {\"Year\": \"2013 / 1st half\", \"Frequency\": 4744}, {\"Year\": \"2013 / 2nd half\", \"Frequency\": 3538}, {\"Year\": \"2014 / 1st half\", \"Frequency\": 2361}, {\"Year\": \"2014 / 2nd half\", \"Frequency\": 3295}, {\"Year\": \"2015 / 1st half\", \"Frequency\": 4310}, {\"Year\": \"2015 / 2nd half\", \"Frequency\": 3500}, {\"Year\": \"2016 / 1st half\", \"Frequency\": 2601}, {\"Year\": \"2016 / 2nd half\", \"Frequency\": 1836}, {\"Year\": \"2017 / 1st half\", \"Frequency\": 882}, {\"Year\": \"2017 / 2nd half\", \"Frequency\": 1312}, {\"Year\": \"2018 / 1st half\", \"Frequency\": 1121}, {\"Year\": \"2018 / 2nd half\", \"Frequency\": 1777}, {\"Year\": \"2019 / 1st half\", \"Frequency\": 1714}, {\"Year\": \"2019 / 2nd half\", \"Frequency\": 2704}, {\"Year\": \"2020 / 1st half\", \"Frequency\": 620}]}}, {\"mode\": \"vega-lite\"});\n",
              "</script>"
            ]
          },
          "metadata": {
            "tags": []
          },
          "execution_count": 8
        }
      ]
    },
    {
      "cell_type": "code",
      "metadata": {
        "colab": {
          "base_uri": "https://localhost:8080/",
          "height": 425
        },
        "id": "LDDXfg8C40Fo",
        "outputId": "8a2fcb92-126f-4e12-fab7-efec5ccf2186"
      },
      "source": [
        "#Replace 0 values with 1 so we don't get infinity values for ratio\n",
        "trump_tweets[\"favorites\"].replace(to_replace=0, value=1, inplace=True)\n",
        "trump_tweets[\"retweets\"].replace(to_replace=0, value=1, inplace=True)\n",
        "\n",
        "#How did ratio of retweets to favorites change over time?\n",
        "trump_tweets[\"ratio\"] = trump_tweets[\"retweets\"]/trump_tweets[\"favorites\"]\n",
        "trump_tweets[\"ratio\"].fillna(0, inplace=True)\n",
        "\n",
        "bar_df = trump_tweets.resample(\"6m\")[\"ratio\"].mean()\n",
        "bar_df.index = [\"2009 / 1st half\", \"2009 / 2nd half\", \n",
        "          \"2010 / 1st half\", \"2010 / 2nd half\",\n",
        "          \"2011 / 1st half\", \"2011 / 2nd half\",\n",
        "          \"2012 / 1st half\", \"2012 / 2nd half\",\n",
        "          \"2013 / 1st half\", \"2013 / 2nd half\",\n",
        "          \"2014 / 1st half\", \"2014 / 2nd half\",\n",
        "          \"2015 / 1st half\", \"2015 / 2nd half\",\n",
        "          \"2016 / 1st half\", \"2016 / 2nd half\",\n",
        "          \"2017 / 1st half\", \"2017 / 2nd half\",\n",
        "          \"2018 / 1st half\", \"2018 / 2nd half\",\n",
        "          \"2019 / 1st half\", \"2019 / 2nd half\",\n",
        "          \"2020 / 1st half\"]\n",
        "\n",
        "source = pd.DataFrame({\n",
        "    'Year': bar_df.index,\n",
        "    'Ratio (retweets / favorites)': bar_df\n",
        "})\n",
        "\n",
        "alt.Chart(source).mark_bar().encode(\n",
        "    x='Year',\n",
        "    y='Ratio (retweets / favorites)',\n",
        "    color=alt.Color('Ratio (retweets / favorites)')\n",
        ")"
      ],
      "execution_count": 9,
      "outputs": [
        {
          "output_type": "execute_result",
          "data": {
            "text/plain": [
              "alt.Chart(...)"
            ],
            "text/html": [
              "\n",
              "<div id=\"altair-viz-b92de6cb79f34c2496de8da6263e284a\"></div>\n",
              "<script type=\"text/javascript\">\n",
              "  (function(spec, embedOpt){\n",
              "    let outputDiv = document.currentScript.previousElementSibling;\n",
              "    if (outputDiv.id !== \"altair-viz-b92de6cb79f34c2496de8da6263e284a\") {\n",
              "      outputDiv = document.getElementById(\"altair-viz-b92de6cb79f34c2496de8da6263e284a\");\n",
              "    }\n",
              "    const paths = {\n",
              "      \"vega\": \"https://cdn.jsdelivr.net/npm//vega@5?noext\",\n",
              "      \"vega-lib\": \"https://cdn.jsdelivr.net/npm//vega-lib?noext\",\n",
              "      \"vega-lite\": \"https://cdn.jsdelivr.net/npm//vega-lite@4.8.1?noext\",\n",
              "      \"vega-embed\": \"https://cdn.jsdelivr.net/npm//vega-embed@6?noext\",\n",
              "    };\n",
              "\n",
              "    function loadScript(lib) {\n",
              "      return new Promise(function(resolve, reject) {\n",
              "        var s = document.createElement('script');\n",
              "        s.src = paths[lib];\n",
              "        s.async = true;\n",
              "        s.onload = () => resolve(paths[lib]);\n",
              "        s.onerror = () => reject(`Error loading script: ${paths[lib]}`);\n",
              "        document.getElementsByTagName(\"head\")[0].appendChild(s);\n",
              "      });\n",
              "    }\n",
              "\n",
              "    function showError(err) {\n",
              "      outputDiv.innerHTML = `<div class=\"error\" style=\"color:red;\">${err}</div>`;\n",
              "      throw err;\n",
              "    }\n",
              "\n",
              "    function displayChart(vegaEmbed) {\n",
              "      vegaEmbed(outputDiv, spec, embedOpt)\n",
              "        .catch(err => showError(`Javascript Error: ${err.message}<br>This usually means there's a typo in your chart specification. See the javascript console for the full traceback.`));\n",
              "    }\n",
              "\n",
              "    if(typeof define === \"function\" && define.amd) {\n",
              "      requirejs.config({paths});\n",
              "      require([\"vega-embed\"], displayChart, err => showError(`Error loading script: ${err.message}`));\n",
              "    } else if (typeof vegaEmbed === \"function\") {\n",
              "      displayChart(vegaEmbed);\n",
              "    } else {\n",
              "      loadScript(\"vega\")\n",
              "        .then(() => loadScript(\"vega-lite\"))\n",
              "        .then(() => loadScript(\"vega-embed\"))\n",
              "        .catch(showError)\n",
              "        .then(() => displayChart(vegaEmbed));\n",
              "    }\n",
              "  })({\"config\": {\"view\": {\"continuousWidth\": 400, \"continuousHeight\": 300}}, \"data\": {\"name\": \"data-3eab5cd45b9a5160a528176166a429cb\"}, \"mark\": \"bar\", \"encoding\": {\"color\": {\"type\": \"quantitative\", \"field\": \"Ratio (retweets / favorites)\"}, \"x\": {\"type\": \"nominal\", \"field\": \"Year\"}, \"y\": {\"type\": \"quantitative\", \"field\": \"Ratio (retweets / favorites)\"}}, \"$schema\": \"https://vega.github.io/schema/vega-lite/v4.8.1.json\", \"datasets\": {\"data-3eab5cd45b9a5160a528176166a429cb\": [{\"Year\": \"2009 / 1st half\", \"Ratio (retweets / favorites)\": 0.8265532886650869}, {\"Year\": \"2009 / 2nd half\", \"Ratio (retweets / favorites)\": 1.0854755991499623}, {\"Year\": \"2010 / 1st half\", \"Ratio (retweets / favorites)\": 2.3620386234761104}, {\"Year\": \"2010 / 2nd half\", \"Ratio (retweets / favorites)\": 3.4055761397211577}, {\"Year\": \"2011 / 1st half\", \"Ratio (retweets / favorites)\": 3.220285479726999}, {\"Year\": \"2011 / 2nd half\", \"Ratio (retweets / favorites)\": 4.648866135911075}, {\"Year\": \"2012 / 1st half\", \"Ratio (retweets / favorites)\": 4.688881457193895}, {\"Year\": \"2012 / 2nd half\", \"Ratio (retweets / favorites)\": 3.507836802680725}, {\"Year\": \"2013 / 1st half\", \"Ratio (retweets / favorites)\": 1.7445883731814629}, {\"Year\": \"2013 / 2nd half\", \"Ratio (retweets / favorites)\": 1.5283369860478542}, {\"Year\": \"2014 / 1st half\", \"Ratio (retweets / favorites)\": 0.828372457582227}, {\"Year\": \"2014 / 2nd half\", \"Ratio (retweets / favorites)\": 0.7173546443186293}, {\"Year\": \"2015 / 1st half\", \"Ratio (retweets / favorites)\": 0.5807258515045446}, {\"Year\": \"2015 / 2nd half\", \"Ratio (retweets / favorites)\": 0.49521228270313605}, {\"Year\": \"2016 / 1st half\", \"Ratio (retweets / favorites)\": 0.353818550035293}, {\"Year\": \"2016 / 2nd half\", \"Ratio (retweets / favorites)\": 0.36412937254688316}, {\"Year\": \"2017 / 1st half\", \"Ratio (retweets / favorites)\": 0.21489331223568706}, {\"Year\": \"2017 / 2nd half\", \"Ratio (retweets / favorites)\": 0.21823865985107252}, {\"Year\": \"2018 / 1st half\", \"Ratio (retweets / favorites)\": 0.21931740573525005}, {\"Year\": \"2018 / 2nd half\", \"Ratio (retweets / favorites)\": 0.22934683883238455}, {\"Year\": \"2019 / 1st half\", \"Ratio (retweets / favorites)\": 0.2222187536852738}, {\"Year\": \"2019 / 2nd half\", \"Ratio (retweets / favorites)\": 0.23425260603496853}, {\"Year\": \"2020 / 1st half\", \"Ratio (retweets / favorites)\": 0.23697512554708752}]}}, {\"mode\": \"vega-lite\"});\n",
              "</script>"
            ]
          },
          "metadata": {
            "tags": []
          },
          "execution_count": 9
        }
      ]
    },
    {
      "cell_type": "code",
      "metadata": {
        "colab": {
          "base_uri": "https://localhost:8080/",
          "height": 381
        },
        "id": "7fqozJi-DftW",
        "outputId": "9744b07d-8368-43fc-ebcf-82b0cbe3ff5e"
      },
      "source": [
        "#When did Trump use the highest proportion of hashtags?\n",
        "trump_tweets[\"hashtag_indicator\"] = trump_tweets[\"hashtags\"].map({\n",
        "    \"None\": 0\n",
        "})\n",
        "trump_tweets[\"hashtag_indicator\"].fillna(1, inplace=True)\n",
        "\n",
        "bar_df = trump_tweets.resample(\"Y\")[\"hashtag_indicator\"].sum()/trump_tweets.resample(\"Y\").count()[\"content\"]\n",
        "bar_df.index = [\"2009\", \"2010\", \"2011\", \"2012\", \"2013\", \"2014\", \"2015\", \"2016\", \"2017\", \"2018\", \"2019\", \"2020\"]\n",
        "\n",
        "source = pd.DataFrame({\n",
        "    'Year': bar_df.index,\n",
        "    'Frequency': bar_df\n",
        "})\n",
        "\n",
        "alt.Chart(source).mark_bar().encode(\n",
        "    x='Year',\n",
        "    y='Frequency',\n",
        "    color=alt.Color('Frequency'),\n",
        ")"
      ],
      "execution_count": 10,
      "outputs": [
        {
          "output_type": "execute_result",
          "data": {
            "text/plain": [
              "alt.Chart(...)"
            ],
            "text/html": [
              "\n",
              "<div id=\"altair-viz-c00db277215e4e3a850999da13a026e3\"></div>\n",
              "<script type=\"text/javascript\">\n",
              "  (function(spec, embedOpt){\n",
              "    let outputDiv = document.currentScript.previousElementSibling;\n",
              "    if (outputDiv.id !== \"altair-viz-c00db277215e4e3a850999da13a026e3\") {\n",
              "      outputDiv = document.getElementById(\"altair-viz-c00db277215e4e3a850999da13a026e3\");\n",
              "    }\n",
              "    const paths = {\n",
              "      \"vega\": \"https://cdn.jsdelivr.net/npm//vega@5?noext\",\n",
              "      \"vega-lib\": \"https://cdn.jsdelivr.net/npm//vega-lib?noext\",\n",
              "      \"vega-lite\": \"https://cdn.jsdelivr.net/npm//vega-lite@4.8.1?noext\",\n",
              "      \"vega-embed\": \"https://cdn.jsdelivr.net/npm//vega-embed@6?noext\",\n",
              "    };\n",
              "\n",
              "    function loadScript(lib) {\n",
              "      return new Promise(function(resolve, reject) {\n",
              "        var s = document.createElement('script');\n",
              "        s.src = paths[lib];\n",
              "        s.async = true;\n",
              "        s.onload = () => resolve(paths[lib]);\n",
              "        s.onerror = () => reject(`Error loading script: ${paths[lib]}`);\n",
              "        document.getElementsByTagName(\"head\")[0].appendChild(s);\n",
              "      });\n",
              "    }\n",
              "\n",
              "    function showError(err) {\n",
              "      outputDiv.innerHTML = `<div class=\"error\" style=\"color:red;\">${err}</div>`;\n",
              "      throw err;\n",
              "    }\n",
              "\n",
              "    function displayChart(vegaEmbed) {\n",
              "      vegaEmbed(outputDiv, spec, embedOpt)\n",
              "        .catch(err => showError(`Javascript Error: ${err.message}<br>This usually means there's a typo in your chart specification. See the javascript console for the full traceback.`));\n",
              "    }\n",
              "\n",
              "    if(typeof define === \"function\" && define.amd) {\n",
              "      requirejs.config({paths});\n",
              "      require([\"vega-embed\"], displayChart, err => showError(`Error loading script: ${err.message}`));\n",
              "    } else if (typeof vegaEmbed === \"function\") {\n",
              "      displayChart(vegaEmbed);\n",
              "    } else {\n",
              "      loadScript(\"vega\")\n",
              "        .then(() => loadScript(\"vega-lite\"))\n",
              "        .then(() => loadScript(\"vega-embed\"))\n",
              "        .catch(showError)\n",
              "        .then(() => displayChart(vegaEmbed));\n",
              "    }\n",
              "  })({\"config\": {\"view\": {\"continuousWidth\": 400, \"continuousHeight\": 300}}, \"data\": {\"name\": \"data-cc85081c971277ee5cecb5118787091d\"}, \"mark\": \"bar\", \"encoding\": {\"color\": {\"type\": \"quantitative\", \"field\": \"Frequency\"}, \"x\": {\"type\": \"nominal\", \"field\": \"Year\"}, \"y\": {\"type\": \"quantitative\", \"field\": \"Frequency\"}}, \"$schema\": \"https://vega.github.io/schema/vega-lite/v4.8.1.json\", \"datasets\": {\"data-cc85081c971277ee5cecb5118787091d\": [{\"Year\": \"2009\", \"Frequency\": 0.0}, {\"Year\": \"2010\", \"Frequency\": 0.006993006993006993}, {\"Year\": \"2011\", \"Frequency\": 0.17586206896551723}, {\"Year\": \"2012\", \"Frequency\": 0.0711217183770883}, {\"Year\": \"2013\", \"Frequency\": 0.07140246131351285}, {\"Year\": \"2014\", \"Frequency\": 0.1473191915817605}, {\"Year\": \"2015\", \"Frequency\": 0.22930431403031482}, {\"Year\": \"2016\", \"Frequency\": 0.31764110351809666}, {\"Year\": \"2017\", \"Frequency\": 0.16263440860215053}, {\"Year\": \"2018\", \"Frequency\": 0.08739159439626418}, {\"Year\": \"2019\", \"Frequency\": 0.04969485614646905}, {\"Year\": \"2020\", \"Frequency\": 0.06629834254143646}]}}, {\"mode\": \"vega-lite\"});\n",
              "</script>"
            ]
          },
          "metadata": {
            "tags": []
          },
          "execution_count": 10
        }
      ]
    },
    {
      "cell_type": "code",
      "metadata": {
        "colab": {
          "base_uri": "https://localhost:8080/",
          "height": 296
        },
        "id": "nMaN84yvFBLJ",
        "outputId": "7090f4de-1994-45a6-ed89-72a472be36bb"
      },
      "source": [
        "#What is the relationship between favorites and retweets? How does being a criticism or not affect this relationship?\n",
        "colors = trump_tweets[\"indicator\"].map({\n",
        "    0: \"red\",\n",
        "    1: \"blue\"\n",
        "})\n",
        "trump_tweets.plot.scatter(x=\"favorites\", y=\"retweets\", c=colors, alpha=.5, legend=True)"
      ],
      "execution_count": 11,
      "outputs": [
        {
          "output_type": "execute_result",
          "data": {
            "text/plain": [
              "<matplotlib.axes._subplots.AxesSubplot at 0x7f42aeefbcd0>"
            ]
          },
          "metadata": {
            "tags": []
          },
          "execution_count": 11
        },
        {
          "output_type": "display_data",
          "data": {
            "image/png": "[encoded data removed]",
            "text/plain": [
              "<Figure size 432x288 with 1 Axes>"
            ]
          },
          "metadata": {
            "tags": [],
            "needs_background": "light"
          }
        }
      ]
    },
    {
      "cell_type": "code",
      "metadata": {
        "colab": {
          "base_uri": "https://localhost:8080/"
        },
        "id": "ZYsrJT4YFwr7",
        "outputId": "a8df58f6-2960-43d2-d7ab-f7d35580d770"
      },
      "source": [
        "#What is the correlation between favorites and retweets?\n",
        "trump_tweets[\"favorites\"].corr(trump_tweets[\"retweets\"])"
      ],
      "execution_count": 12,
      "outputs": [
        {
          "output_type": "execute_result",
          "data": {
            "text/plain": [
              "0.9444413875919511"
            ]
          },
          "metadata": {
            "tags": []
          },
          "execution_count": 12
        }
      ]
    },
    {
      "cell_type": "code",
      "metadata": {
        "colab": {
          "base_uri": "https://localhost:8080/",
          "height": 52
        },
        "id": "P2u-IwfXe7R2",
        "outputId": "904c3375-746d-46f0-c2d1-ac318c69b885"
      },
      "source": [
        "#Which insult tweet was the outlier with more favorites and retweets?\n",
        "pd.options.display.max_colwidth = 300\n",
        "trump_tweets[(trump_tweets[\"favorites\"]>500000) & (trump_tweets[\"indicator\"] == 1)][\"content\"][0]"
      ],
      "execution_count": 13,
      "outputs": [
        {
          "output_type": "execute_result",
          "data": {
            "application/vnd.google.colaboratory.intrinsic+json": {
              "type": "string"
            },
            "text/plain": [
              "'Why would Kim Jong-un insult me by calling me \"old,\" when I would NEVER call him \"short and fat?\" Oh well, I try so hard to be his friend - and maybe someday that will happen!'"
            ]
          },
          "metadata": {
            "tags": []
          },
          "execution_count": 13
        }
      ]
    },
    {
      "cell_type": "code",
      "metadata": {
        "colab": {
          "base_uri": "https://localhost:8080/"
        },
        "id": "f1avGRfmOzVd",
        "outputId": "2ddecb41-a0d3-4f44-8e27-089774021427"
      },
      "source": [
        "#Fitting a linear regression model to the data\n",
        "from sklearn.model_selection import train_test_split\n",
        "from sklearn.linear_model import LinearRegression\n",
        "\n",
        "trump_train = trump_tweets.copy()\n",
        "trump_train, trump_test = train_test_split(trump_train, test_size=0.3)\n",
        "\n",
        "X_train = trump_train[[\"favorites\"]]\n",
        "X_test = trump_test[[\"favorites\"]]\n",
        "y_train = trump_train[\"retweets\"]\n",
        "\n",
        "model = LinearRegression()\n",
        "model.fit(X=X_train, y=y_train)\n",
        "model.predict(X=X_test)"
      ],
      "execution_count": 14,
      "outputs": [
        {
          "output_type": "execute_result",
          "data": {
            "text/plain": [
              "array([  307.69644881,  8869.52338399, 15567.17818262, ...,\n",
              "        1251.07354733, 13671.43724722,  2025.54605053])"
            ]
          },
          "metadata": {
            "tags": []
          },
          "execution_count": 14
        }
      ]
    },
    {
      "cell_type": "code",
      "metadata": {
        "colab": {
          "base_uri": "https://localhost:8080/"
        },
        "id": "3dCH29utTWcY",
        "outputId": "c87b4388-cc00-4b88-a8a7-1a230d07ecdf"
      },
      "source": [
        "model.coef_"
      ],
      "execution_count": 15,
      "outputs": [
        {
          "output_type": "execute_result",
          "data": {
            "text/plain": [
              "array([0.23042919])"
            ]
          },
          "metadata": {
            "tags": []
          },
          "execution_count": 15
        }
      ]
    },
    {
      "cell_type": "code",
      "metadata": {
        "colab": {
          "base_uri": "https://localhost:8080/"
        },
        "id": "2ty_WKZZWjla",
        "outputId": "fa4e3b22-2c43-436e-d3a1-0c611f6c7eaf"
      },
      "source": [
        "model.intercept_"
      ],
      "execution_count": 16,
      "outputs": [
        {
          "output_type": "execute_result",
          "data": {
            "text/plain": [
              "301.93571909059665"
            ]
          },
          "metadata": {
            "tags": []
          },
          "execution_count": 16
        }
      ]
    },
    {
      "cell_type": "code",
      "metadata": {
        "colab": {
          "base_uri": "https://localhost:8080/",
          "height": 296
        },
        "id": "MS6BRuYzPaq6",
        "outputId": "b12657e2-3976-4eeb-d6cf-a4af9c7a58a7"
      },
      "source": [
        "#Plotting the linear regression\n",
        "import numpy as np\n",
        "\n",
        "X_new = pd.DataFrame()\n",
        "X_new[\"favorites\"] = np.linspace(0, 900000, num=200)\n",
        "\n",
        "y_new_ = pd.Series(\n",
        "    model.predict(X_new), \n",
        "    index=X_new[\"favorites\"]   \n",
        ")\n",
        "\n",
        "trump_train.plot.scatter(x=\"favorites\", y=\"retweets\")\n",
        "y_new_.plot.line(color=[\"red\"])"
      ],
      "execution_count": 17,
      "outputs": [
        {
          "output_type": "execute_result",
          "data": {
            "text/plain": [
              "<matplotlib.axes._subplots.AxesSubplot at 0x7f429c56c410>"
            ]
          },
          "metadata": {
            "tags": []
          },
          "execution_count": 17
        },
        {
          "output_type": "display_data",
          "data": {
            "image/png": "[encoded data removed]",
            "text/plain": [
              "<Figure size 432x288 with 1 Axes>"
            ]
          },
          "metadata": {
            "tags": [],
            "needs_background": "light"
          }
        }
      ]
    },
    {
      "cell_type": "code",
      "metadata": {
        "colab": {
          "base_uri": "https://localhost:8080/",
          "height": 235
        },
        "id": "jQIJIZiXf-Sx",
        "outputId": "9122d85f-e691-4c6b-bce2-227094ac3ff2"
      },
      "source": [
        "#Sort insults by target\n",
        "insults_df = trump_tweets[\"target\"].to_frame().join(trump_tweets[\"insult\"])\n",
        "insults_df = insults_df[insults_df[\"target\"] != \"None\"].sort_values(\"target\")\n",
        "\n",
        "#with pd.option_context(\"display.max_rows\", None, \"display.max_columns\", None):\n",
        "  #display(insults_df)\n",
        "insults_df.head()"
      ],
      "execution_count": 19,
      "outputs": [
        {
          "output_type": "execute_result",
          "data": {
            "text/html": [
              "<div>\n",
              "<style scoped>\n",
              "    .dataframe tbody tr th:only-of-type {\n",
              "        vertical-align: middle;\n",
              "    }\n",
              "\n",
              "    .dataframe tbody tr th {\n",
              "        vertical-align: top;\n",
              "    }\n",
              "\n",
              "    .dataframe thead th {\n",
              "        text-align: right;\n",
              "    }\n",
              "</style>\n",
              "<table border=\"1\" class=\"dataframe\">\n",
              "  <thead>\n",
              "    <tr style=\"text-align: right;\">\n",
              "      <th></th>\n",
              "      <th>target</th>\n",
              "      <th>insult</th>\n",
              "    </tr>\n",
              "    <tr>\n",
              "      <th>date</th>\n",
              "      <th></th>\n",
              "      <th></th>\n",
              "    </tr>\n",
              "  </thead>\n",
              "  <tbody>\n",
              "    <tr>\n",
              "      <th>2016-10-16 14:31:40</th>\n",
              "      <td>2016-election</td>\n",
              "      <td>being rigged by the media, in a coordinated effort with the Clinton campaign</td>\n",
              "    </tr>\n",
              "    <tr>\n",
              "      <th>2016-10-15 14:23:08</th>\n",
              "      <td>2016-election</td>\n",
              "      <td>rigged</td>\n",
              "    </tr>\n",
              "    <tr>\n",
              "      <th>2016-10-16 19:01:12</th>\n",
              "      <td>2016-election</td>\n",
              "      <td>absolutely being rigged</td>\n",
              "    </tr>\n",
              "    <tr>\n",
              "      <th>2016-10-15 13:45:58</th>\n",
              "      <td>2016-election</td>\n",
              "      <td>is being rigged</td>\n",
              "    </tr>\n",
              "    <tr>\n",
              "      <th>2019-05-08 14:48:15</th>\n",
              "      <td>2020-dem-candidates</td>\n",
              "      <td>very weak</td>\n",
              "    </tr>\n",
              "  </tbody>\n",
              "</table>\n",
              "</div>"
            ],
            "text/plain": [
              "                                  target                                                                        insult\n",
              "date                                                                                                                  \n",
              "2016-10-16 14:31:40        2016-election  being rigged by the media, in a coordinated effort with the Clinton campaign\n",
              "2016-10-15 14:23:08        2016-election                                                                        rigged\n",
              "2016-10-16 19:01:12        2016-election                                                       absolutely being rigged\n",
              "2016-10-15 13:45:58        2016-election                                                               is being rigged\n",
              "2019-05-08 14:48:15  2020-dem-candidates                                                                     very weak"
            ]
          },
          "metadata": {
            "tags": []
          },
          "execution_count": 19
        }
      ]
    },
    {
      "cell_type": "code",
      "metadata": {
        "id": "3KWZVWkSgAsg"
      },
      "source": [
        "#Top word usage (including \"the\", \"to\", \"and\", etc.)\n",
        "df_word_count = df_years.append(df_years.sum(numeric_only=True), ignore_index=True).drop([0, 1, 2, 3, 4, 5, 6, 7, 8, 9, 10, 11])\n",
        "df_word_count = df_word_count.transpose()\n",
        "df_word_count = df_word_count.sort_values(12, ascending=False)\n",
        "df_word_count = df_word_count[df_word_count[12] >= 250]"
      ],
      "execution_count": null,
      "outputs": []
    },
    {
      "cell_type": "code",
      "metadata": {
        "colab": {
          "base_uri": "https://localhost:8080/"
        },
        "id": "VnSRW1c_gFjO",
        "outputId": "1a6eb814-169a-41f3-d3b6-c18b802e88c0"
      },
      "source": [
        "#Remove non-english words (dictionary isn't super reliable but is accurate for most frequent words so we'll roll with it)\n",
        "import nltk\n",
        "nltk.download(\"words\")\n",
        "\n",
        "english = []\n",
        "\n",
        "def removeNonEnglishWordsFunct(x):\n",
        "    words = set(nltk.corpus.words.words())\n",
        "    filteredSentence = \" \".join(w for w in nltk.wordpunct_tokenize(x) \\\n",
        "                                if w.lower() in words or not w.isalpha())\n",
        "    return filteredSentence\n",
        "\n",
        "for i in df_word_count.index:\n",
        "  english.append(removeNonEnglishWordsFunct(i))"
      ],
      "execution_count": null,
      "outputs": [
        {
          "output_type": "stream",
          "text": [
            "[nltk_data] Downloading package words to /root/nltk_data...\n",
            "[nltk_data]   Unzipping corpora/words.zip.\n"
          ],
          "name": "stdout"
        }
      ]
    },
    {
      "cell_type": "code",
      "metadata": {
        "id": "eePUKLjRgeFV"
      },
      "source": [
        "#Additional filtering\n",
        "english_words = []\n",
        "for i in english:\n",
        "  if i != \"\" and \"0\" not in i and \"1\" not in i:\n",
        "    english_words.append(i)"
      ],
      "execution_count": null,
      "outputs": []
    },
    {
      "cell_type": "code",
      "metadata": {
        "id": "BAfODUeKggIq"
      },
      "source": [
        "#Create dataframe of uses index by word\n",
        "new_col = []\n",
        "for i in df_word_count.index:\n",
        "  new_col.append(i in english_words)\n",
        "\n",
        "df_word_count[\"english\"] = new_col\n",
        "df_word_count = df_word_count[df_word_count[\"english\"] == True]\n",
        "df_word_count = df_word_count.drop(columns = [\"english\"])\n",
        "df_word_count = df_word_count.rename(columns ={12: \"uses\"})"
      ],
      "execution_count": null,
      "outputs": []
    },
    {
      "cell_type": "code",
      "metadata": {
        "colab": {
          "base_uri": "https://localhost:8080/"
        },
        "id": "IgwjYPp_giBD",
        "outputId": "4b0bd506-3c28-4970-f78c-5ac54a246cbe"
      },
      "source": [
        "#Most liked insults\n",
        "i = trump_tweets[trump_tweets[\"favorites\"] > 200000]\n",
        "i = i[i[\"indicator\"] == 1]\n",
        "\n",
        "pd.options.display.max_colwidth = 300\n",
        "i.sort_values(by=\"favorites\", ascending=False)[\"content\"]"
      ],
      "execution_count": null,
      "outputs": [
        {
          "output_type": "execute_result",
          "data": {
            "text/plain": [
              "date\n",
              "2017-11-12 01:48:01                                                                                                             Why would Kim Jong-un insult me by calling me \"old,\" when I would NEVER call him \"short and fat?\" Oh well, I try so hard to be his friend - and maybe someday that will happen!\n",
              "2020-01-04 23:16:27      As hard as I work, & as successful as our Country has become with our Economy, our Military & everything else, it is ashame that the Democrats make us spend so much time & money on this ridiculous Impeachment Lite Hoax. I should be able to devote all of my time to the REAL USA!\n",
              "2018-01-01 13:12:00    The United States has foolishly given Pakistan more than 33 billion dollars in aid over the last 15 years, and they have given us nothing but lies & deceit, thinking of our leaders as fools. They give safe haven to the terrorists we hunt in Afghanistan, with little help. No more!\n",
              "2017-11-19 18:42:36                                                     Now that the three basketball players are out of China and saved from years in jail, LaVar Ball, the father of LiAngelo, is unaccepting of what I did for his son and that shoplifting is no big deal. I should have left them in jail!\n",
              "2019-12-18 13:34:06                                                               Can you believe that I will be impeached today by the Radical Left, Do Nothing Democrats, AND I DID NOTHING WRONG! A terrible Thing. Read the Transcripts. This should never happen to another President again. Say a PRAYER!\n",
              "2019-01-01 14:08:29                                             HAPPY NEW YEAR TO EVERYONE, INCLUDING THE HATERS AND THE FAKE NEWS MEDIA! 2019 WILL BE A FANTASTIC YEAR FOR THOSE NOT SUFFERING FROM TRUMP DERANGEMENT SYNDROME. JUST CALM DOWN AND ENJOY THE RIDE, GREAT THINGS ARE HAPPENING FOR OUR COUNTRY!\n",
              "2019-01-04 14:16:20      How do you impeach a president who has won perhaps the greatest election of all time, done nothing wrong (no Collusion with Russia, it was the Dems that Colluded), had the most successful first two years of any president, and is the most popular Republican in party history 93%?\n",
              "2019-09-24 23:17:42                                                                                                                                                                                                                                                                    PRESIDENTIAL HARASSMENT!\n",
              "2019-12-18 18:44:18                                                                                                                                                    SUCH ATROCIOUS LIES BY THE RADICAL LEFT, DO NOTHING DEMOCRATS. THIS IS AN ASSAULT ON AMERICA, AND AN ASSAULT ON THE REPUBLICAN PARTY!!!!\n",
              "2018-03-22 11:19:57          Crazy Joe Biden is trying to act like a tough guy. Actually, he is weak, both mentally and physically, and yet he threatens me, for the second time, with physical assault. He doesn’t know me, but he would go down fast and hard, crying all the way. Don’t threaten people Joe!\n",
              "2016-07-20 17:36:06                                                                                                                                                                       The media is spending more time doing a forensic analysis of Melania's speech than the FBI spent on Hillary's emails.\n",
              "2020-01-11 15:17:50                                                                                                                                                                                                       Nancy Pelosi will go down as the absolute worst Speaker of the House in U.S. history!\n",
              "2018-10-07 03:21:22                                                You don’t hand matches to an arsonist, and you don’t give power to an angry left-wing mob. Democrats have become too EXTREME and TOO DANGEROUS to govern. Republicans believe in the rule of law - not the rule of the mob. VOTE REPUBLICAN!\n",
              "2019-12-20 01:16:46              So after the Democrats gave me no Due Process in the House, no lawyers, no witnesses, no nothing, they now want to tell the Senate how to run their trial. Actually, they have zero proof of anything, they will never even show up. They want out. I want an immediate trial!\n",
              "2019-10-05 21:25:32                                                                So Crooked Hillary Clinton can delete and acid wash 33,000 emails AFTER getting a Subpoena from the United States Congress, but I can’t make one totally appropriate telephone call to the President of Ukraine? Witch Hunt!\n",
              "2019-12-20 22:28:24                                                                                                                                                                                                   Nancy Pelosi is looking for a Quid Pro Quo with the Senate. Why aren’t we Impeaching her?\n",
              "2016-11-11 03:19:44                                                                                                                                                  Just had a very open and successful presidential election. Now professional protesters, incited by the media, are protesting. Very unfair!\n",
              "2020-01-09 13:21:44             Pelosi doesn’t want to hand over The Articles of Impeachment, which were fraudulently produced by corrupt politicians like Shifty Schiff in the first place, because after all of these years of investigations and persecution, they show no crimes and are a joke and a scam!\n",
              "2020-01-09 13:30:27                                                                                                                                                                                                                                                                    PRESIDENTIAL HARASSMENT!\n",
              "Name: content, dtype: object"
            ]
          },
          "metadata": {
            "tags": []
          },
          "execution_count": 23
        }
      ]
    },
    {
      "cell_type": "code",
      "metadata": {
        "colab": {
          "base_uri": "https://localhost:8080/",
          "height": 419
        },
        "id": "Jktk-SgjkQS-",
        "outputId": "b3ef1a9e-61ce-4d9a-d4b4-7b5bc0824c51"
      },
      "source": [
        "#Dataframe of word counts\n",
        "word_counts = df_years.sum(axis=0)\n",
        "word_counts.sort_values(ascending=False, inplace=True)\n",
        "df_word = pd.DataFrame(word_counts)\n",
        "df_word.reset_index(inplace=True)\n",
        "df_word"
      ],
      "execution_count": null,
      "outputs": [
        {
          "output_type": "execute_result",
          "data": {
            "text/html": [
              "<div>\n",
              "<style scoped>\n",
              "    .dataframe tbody tr th:only-of-type {\n",
              "        vertical-align: middle;\n",
              "    }\n",
              "\n",
              "    .dataframe tbody tr th {\n",
              "        vertical-align: top;\n",
              "    }\n",
              "\n",
              "    .dataframe thead th {\n",
              "        text-align: right;\n",
              "    }\n",
              "</style>\n",
              "<table border=\"1\" class=\"dataframe\">\n",
              "  <thead>\n",
              "    <tr style=\"text-align: right;\">\n",
              "      <th></th>\n",
              "      <th>index</th>\n",
              "      <th>0</th>\n",
              "    </tr>\n",
              "  </thead>\n",
              "  <tbody>\n",
              "    <tr>\n",
              "      <th>0</th>\n",
              "      <td>the</td>\n",
              "      <td>32382</td>\n",
              "    </tr>\n",
              "    <tr>\n",
              "      <th>1</th>\n",
              "      <td>to</td>\n",
              "      <td>18677</td>\n",
              "    </tr>\n",
              "    <tr>\n",
              "      <th>2</th>\n",
              "      <td>and</td>\n",
              "      <td>14662</td>\n",
              "    </tr>\n",
              "    <tr>\n",
              "      <th>3</th>\n",
              "      <td>of</td>\n",
              "      <td>12450</td>\n",
              "    </tr>\n",
              "    <tr>\n",
              "      <th>4</th>\n",
              "      <td>is</td>\n",
              "      <td>12135</td>\n",
              "    </tr>\n",
              "    <tr>\n",
              "      <th>...</th>\n",
              "      <td>...</td>\n",
              "      <td>...</td>\n",
              "    </tr>\n",
              "    <tr>\n",
              "      <th>106</th>\n",
              "      <td>along</td>\n",
              "      <td>148</td>\n",
              "    </tr>\n",
              "    <tr>\n",
              "      <th>107</th>\n",
              "      <td>forget</td>\n",
              "      <td>131</td>\n",
              "    </tr>\n",
              "    <tr>\n",
              "      <th>108</th>\n",
              "      <td>late</td>\n",
              "      <td>113</td>\n",
              "    </tr>\n",
              "    <tr>\n",
              "      <th>109</th>\n",
              "      <td>list</td>\n",
              "      <td>99</td>\n",
              "    </tr>\n",
              "    <tr>\n",
              "      <th>110</th>\n",
              "      <td>advice</td>\n",
              "      <td>96</td>\n",
              "    </tr>\n",
              "  </tbody>\n",
              "</table>\n",
              "<p>111 rows × 2 columns</p>\n",
              "</div>"
            ],
            "text/plain": [
              "      index      0\n",
              "0       the  32382\n",
              "1        to  18677\n",
              "2       and  14662\n",
              "3        of  12450\n",
              "4        is  12135\n",
              "..      ...    ...\n",
              "106   along    148\n",
              "107  forget    131\n",
              "108    late    113\n",
              "109    list     99\n",
              "110  advice     96\n",
              "\n",
              "[111 rows x 2 columns]"
            ]
          },
          "metadata": {
            "tags": []
          },
          "execution_count": 24
        }
      ]
    },
    {
      "cell_type": "code",
      "metadata": {
        "colab": {
          "base_uri": "https://localhost:8080/"
        },
        "id": "R6owtvCSkS_Y",
        "outputId": "3402a526-2ce0-4428-bc8e-d9e1ffb61cb3"
      },
      "source": [
        "#Most used words\n",
        "top_words = []\n",
        "for i in range(0, 10):\n",
        "  top_words += [df_word.iloc[i]['index']]\n",
        "\n",
        "top_words"
      ],
      "execution_count": null,
      "outputs": [
        {
          "output_type": "execute_result",
          "data": {
            "text/plain": [
              "['the', 'to', 'and', 'of', 'is', 'in', 'you', 'for', 'on', 'com']"
            ]
          },
          "metadata": {
            "tags": []
          },
          "execution_count": 25
        }
      ]
    },
    {
      "cell_type": "code",
      "metadata": {
        "id": "3LrKHAm8bP_E"
      },
      "source": [
        "top_words = [\"trump\", \"great\", \"twitter\", \"people\", \"donald\", \"very\", \"can\", \"more\", \"big\", \"make\"]"
      ],
      "execution_count": null,
      "outputs": []
    },
    {
      "cell_type": "code",
      "metadata": {
        "id": "jL5j75BNkU4Z"
      },
      "source": [
        "#Dataframe of counts of most used word by year\n",
        "df_top = df_years[top_words]\n",
        "df_top = df_top.T\n",
        "for i in range(2009, 2021):\n",
        "  df_top[i] = df_top[i] / len(trump_tweets[trump_tweets[\"year\"] == i])\n"
      ],
      "execution_count": null,
      "outputs": []
    },
    {
      "cell_type": "code",
      "metadata": {
        "colab": {
          "base_uri": "https://localhost:8080/",
          "height": 683
        },
        "id": "4ePJgT-BfDrg",
        "outputId": "f9a96a18-fea3-4df4-b987-3883537881b2"
      },
      "source": [
        "#How did use of top words change by year?\n",
        "stacked_data = df_top.apply(lambda x: x*100/sum(x), axis=1)\n",
        "ax = stacked_data.plot(kind=\"bar\", stacked=True, color=[\"blue\", \"lime\", \"red\", \"cyan\", \"magenta\", \"yellow\", \"black\", \"purple\", \"orange\", \"darkgreen\", \"pink\", \"grey\"])\n",
        "plt.xlabel(\"Word\")\n",
        "plt.ylabel(\"Word Frequency by Year\")\n",
        "plt.rcParams[\"figure.figsize\"] = (20,10)\n",
        "for item in ([ax.title, ax.yaxis.label] +\n",
        "             ax.get_xticklabels() + ax.get_yticklabels()):\n",
        "    item.set_fontsize(20)\n",
        "box = ax.get_position()\n",
        "ax.set_position([box.x0, box.y0, box.width * 0.8, box.height])\n",
        "\n",
        "box = ax.get_position()\n",
        "ax.set_position([box.x0, box.y0, box.width * 0.8, box.height])\n",
        "\n",
        "# Put a legend to the right of the current axis\n",
        "ax.legend(loc='center left', bbox_to_anchor=(1, 0.5))\n",
        "plt.show()"
      ],
      "execution_count": null,
      "outputs": [
        {
          "output_type": "display_data",
          "data": {
            "image/png": "[encoded data removed]",
            "text/plain": [
              "<Figure size 1440x720 with 1 Axes>"
            ]
          },
          "metadata": {
            "tags": [],
            "needs_background": "light"
          }
        }
      ]
    }
  ]
}